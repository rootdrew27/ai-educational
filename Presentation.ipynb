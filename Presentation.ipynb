{
  "nbformat": 4,
  "nbformat_minor": 0,
  "metadata": {
    "colab": {
      "provenance": [],
      "collapsed_sections": [
        "Hl0BR-5saG1N",
        "aqFWlpagaf9Q",
        "-MgkxhW-Yntd",
        "a4kHoCgr_JKn",
        "fLMLE-xEyHAV",
        "A1IDeLT0ztLY",
        "GbzU04BvRtfr",
        "XCq7CADP6AO0",
        "GyoZMtDOMHx-",
        "DnbJ6i6Mbx3A"
      ],
      "authorship_tag": "ABX9TyPoQpWdTFEkWNnjCkufIDt5",
      "include_colab_link": true
    },
    "kernelspec": {
      "name": "python3",
      "display_name": "Python 3"
    },
    "language_info": {
      "name": "python"
    }
  },
  "cells": [
    {
      "cell_type": "markdown",
      "metadata": {
        "id": "view-in-github",
        "colab_type": "text"
      },
      "source": [
        "<a href=\"https://colab.research.google.com/github/rootdrew27/ai-educational/blob/main/Presentation.ipynb\" target=\"_parent\"><img src=\"https://colab.research.google.com/assets/colab-badge.svg\" alt=\"Open In Colab\"/></a>"
      ]
    },
    {
      "cell_type": "markdown",
      "source": [
        "# **An Introduction to Neural Networks and AI**\n",
        "*Using Micrograd and Python*\n",
        "<br>\n",
        "<br>\n",
        "By Andrew Root\n",
        "\n",
        "---\n",
        "\n"
      ],
      "metadata": {
        "id": "OJsB7ws0mu-D"
      }
    },
    {
      "cell_type": "markdown",
      "source": [
        "### Installs and Imports"
      ],
      "metadata": {
        "id": "yyaAItE6WAFt"
      }
    },
    {
      "cell_type": "code",
      "execution_count": 1,
      "metadata": {
        "colab": {
          "base_uri": "https://localhost:8080/"
        },
        "id": "PxmkUjoeGfrV",
        "outputId": "c23d969d-8534-48e8-df6d-236703bef101"
      },
      "outputs": [
        {
          "output_type": "stream",
          "name": "stdout",
          "text": [
            "Collecting micrograd\n",
            "  Downloading micrograd-0.1.0-py3-none-any.whl (4.9 kB)\n",
            "Installing collected packages: micrograd\n",
            "Successfully installed micrograd-0.1.0\n",
            "Requirement already satisfied: graphviz in /usr/local/lib/python3.10/dist-packages (0.20.3)\n"
          ]
        }
      ],
      "source": [
        "!pip install micrograd\n",
        "!pip install graphviz"
      ]
    },
    {
      "cell_type": "code",
      "source": [
        "from graphviz import Digraph\n",
        "\n",
        "from micrograd import nn\n",
        "from micrograd.engine import Value\n",
        "from micrograd.nn import Neuron, Layer, MLP\n",
        "\n",
        "import numpy as np\n",
        "\n",
        "import random\n",
        "\n",
        "import matplotlib.pyplot as plt\n",
        "%matplotlib inline"
      ],
      "metadata": {
        "id": "AnjGsgHVGuhJ"
      },
      "execution_count": 170,
      "outputs": []
    },
    {
      "cell_type": "markdown",
      "source": [
        "## Misc Functions"
      ],
      "metadata": {
        "id": "Hl0BR-5saG1N"
      }
    },
    {
      "cell_type": "code",
      "source": [
        "#@title Graphing Functions\n",
        "\n",
        "def trace(root):\n",
        "    nodes, edges = set(), set()\n",
        "    def build(v):\n",
        "        if v not in nodes:\n",
        "            nodes.add(v)\n",
        "            for child in v._prev:\n",
        "                edges.add((child, v))\n",
        "                build(child)\n",
        "    build(root)\n",
        "    return nodes, edges\n",
        "\n",
        "def draw_dot(root, format='svg', rankdir='LR'):\n",
        "    \"\"\"\n",
        "    format: png | svg | ...\n",
        "    rankdir: TB (top to bottom graph) | LR (left to right)\n",
        "    \"\"\"\n",
        "    assert rankdir in ['LR', 'TB']\n",
        "    nodes, edges = trace(root)\n",
        "    dot = Digraph(format=format, graph_attr={'rankdir': rankdir}) #, node_attr={'rankdir': 'TB'})\n",
        "\n",
        "    for n in nodes:\n",
        "        dot.node(name=str(id(n)), label = \"{ data %.4f | grad %.4f }\" % (n.data, n.grad), shape='record')\n",
        "        if n._op:\n",
        "            dot.node(name=str(id(n)) + n._op, label=n._op)\n",
        "            dot.edge(str(id(n)) + n._op, str(id(n)))\n",
        "\n",
        "    for n1, n2 in edges:\n",
        "        dot.edge(str(id(n1)), str(id(n2)) + n2._op)\n",
        "\n",
        "    return dot"
      ],
      "metadata": {
        "cellView": "form",
        "id": "aw-RIWekaFRr"
      },
      "execution_count": 3,
      "outputs": []
    },
    {
      "cell_type": "markdown",
      "source": [
        "# **Introduction to Neural Networks**\n",
        "\n",
        "1.   Micrograd\n",
        "2.   Mathematics\n",
        "3.   Neurons, Layers, MLPs\n",
        "4.   Run It!\n",
        "4.   Pytorch"
      ],
      "metadata": {
        "id": "utmaMAXxaLr-"
      }
    },
    {
      "cell_type": "markdown",
      "source": [
        "[Neural Net Graphic](https://cs231n.github.io/assets/nn1/neural_net2.jpeg)\n",
        "\n",
        "[Micrograd](https://github.com/karpathy/micrograd/tree/master)\n"
      ],
      "metadata": {
        "id": "kGV_pilaEMpY"
      }
    },
    {
      "cell_type": "markdown",
      "source": [
        "## Micrograd"
      ],
      "metadata": {
        "id": "eWZcjh7ZmXrI"
      }
    },
    {
      "cell_type": "code",
      "source": [
        "from micrograd.engine import Value"
      ],
      "metadata": {
        "id": "k4YAEx-lo5Vq"
      },
      "execution_count": null,
      "outputs": []
    },
    {
      "cell_type": "code",
      "source": [
        "np.random.seed(1337)\n",
        "random.seed(1337)\n",
        "\n",
        "input = Value(2.0)\n",
        "w = Value(4.0)\n",
        "b = Value(3.0)\n",
        "\n",
        "y = w * input\n",
        "L = y + b\n",
        "\n",
        "draw_dot(L)"
      ],
      "metadata": {
        "colab": {
          "base_uri": "https://localhost:8080/",
          "height": 193
        },
        "id": "IDRAwYZZl1if",
        "outputId": "3ef97442-1610-4329-b8a5-ebcb7fa0c29f"
      },
      "execution_count": null,
      "outputs": [
        {
          "output_type": "execute_result",
          "data": {
            "image/svg+xml": "<?xml version=\"1.0\" encoding=\"UTF-8\" standalone=\"no\"?>\n<!DOCTYPE svg PUBLIC \"-//W3C//DTD SVG 1.1//EN\"\n \"http://www.w3.org/Graphics/SVG/1.1/DTD/svg11.dtd\">\n<!-- Generated by graphviz version 2.43.0 (0)\n -->\n<!-- Title: %3 Pages: 1 -->\n<svg width=\"753pt\" height=\"128pt\"\n viewBox=\"0.00 0.00 753.00 128.00\" xmlns=\"http://www.w3.org/2000/svg\" xmlns:xlink=\"http://www.w3.org/1999/xlink\">\n<g id=\"graph0\" class=\"graph\" transform=\"scale(1 1) rotate(0) translate(4 124)\">\n<title>%3</title>\n<polygon fill=\"white\" stroke=\"transparent\" points=\"-4,4 -4,-124 749,-124 749,4 -4,4\"/>\n<!-- 137394392328768 -->\n<g id=\"node1\" class=\"node\">\n<title>137394392328768</title>\n<polygon fill=\"none\" stroke=\"black\" points=\"0,-83.5 0,-119.5 162,-119.5 162,-83.5 0,-83.5\"/>\n<text text-anchor=\"middle\" x=\"40\" y=\"-97.8\" font-family=\"Times,serif\" font-size=\"14.00\">data 4.0000</text>\n<polyline fill=\"none\" stroke=\"black\" points=\"80,-83.5 80,-119.5 \"/>\n<text text-anchor=\"middle\" x=\"121\" y=\"-97.8\" font-family=\"Times,serif\" font-size=\"14.00\">grad 0.0000</text>\n</g>\n<!-- 137394392323968* -->\n<g id=\"node4\" class=\"node\">\n<title>137394392323968*</title>\n<ellipse fill=\"none\" stroke=\"black\" cx=\"225\" cy=\"-73.5\" rx=\"27\" ry=\"18\"/>\n<text text-anchor=\"middle\" x=\"225\" y=\"-69.8\" font-family=\"Times,serif\" font-size=\"14.00\">*</text>\n</g>\n<!-- 137394392328768&#45;&gt;137394392323968* -->\n<g id=\"edge6\" class=\"edge\">\n<title>137394392328768&#45;&gt;137394392323968*</title>\n<path fill=\"none\" stroke=\"black\" d=\"M162.13,-85.7C171.51,-83.85 180.67,-82.04 188.94,-80.41\"/>\n<polygon fill=\"black\" stroke=\"black\" points=\"189.77,-83.82 198.9,-78.45 188.42,-76.95 189.77,-83.82\"/>\n</g>\n<!-- 137394392326080 -->\n<g id=\"node2\" class=\"node\">\n<title>137394392326080</title>\n<polygon fill=\"none\" stroke=\"black\" points=\"288,-0.5 288,-36.5 450,-36.5 450,-0.5 288,-0.5\"/>\n<text text-anchor=\"middle\" x=\"328\" y=\"-14.8\" font-family=\"Times,serif\" font-size=\"14.00\">data 3.0000</text>\n<polyline fill=\"none\" stroke=\"black\" points=\"368,-0.5 368,-36.5 \"/>\n<text text-anchor=\"middle\" x=\"409\" y=\"-14.8\" font-family=\"Times,serif\" font-size=\"14.00\">grad 0.0000</text>\n</g>\n<!-- 137394392321424+ -->\n<g id=\"node6\" class=\"node\">\n<title>137394392321424+</title>\n<ellipse fill=\"none\" stroke=\"black\" cx=\"513\" cy=\"-45.5\" rx=\"27\" ry=\"18\"/>\n<text text-anchor=\"middle\" x=\"513\" y=\"-41.8\" font-family=\"Times,serif\" font-size=\"14.00\">+</text>\n</g>\n<!-- 137394392326080&#45;&gt;137394392321424+ -->\n<g id=\"edge5\" class=\"edge\">\n<title>137394392326080&#45;&gt;137394392321424+</title>\n<path fill=\"none\" stroke=\"black\" d=\"M450.13,-33.74C459.51,-35.52 468.67,-37.26 476.94,-38.83\"/>\n<polygon fill=\"black\" stroke=\"black\" points=\"476.43,-42.3 486.9,-40.73 477.73,-35.42 476.43,-42.3\"/>\n</g>\n<!-- 137394392323968 -->\n<g id=\"node3\" class=\"node\">\n<title>137394392323968</title>\n<polygon fill=\"none\" stroke=\"black\" points=\"288,-55.5 288,-91.5 450,-91.5 450,-55.5 288,-55.5\"/>\n<text text-anchor=\"middle\" x=\"328\" y=\"-69.8\" font-family=\"Times,serif\" font-size=\"14.00\">data 8.0000</text>\n<polyline fill=\"none\" stroke=\"black\" points=\"368,-55.5 368,-91.5 \"/>\n<text text-anchor=\"middle\" x=\"409\" y=\"-69.8\" font-family=\"Times,serif\" font-size=\"14.00\">grad 0.0000</text>\n</g>\n<!-- 137394392323968&#45;&gt;137394392321424+ -->\n<g id=\"edge3\" class=\"edge\">\n<title>137394392323968&#45;&gt;137394392321424+</title>\n<path fill=\"none\" stroke=\"black\" d=\"M450.13,-57.7C459.51,-55.85 468.67,-54.04 476.94,-52.41\"/>\n<polygon fill=\"black\" stroke=\"black\" points=\"477.77,-55.82 486.9,-50.45 476.42,-48.95 477.77,-55.82\"/>\n</g>\n<!-- 137394392323968*&#45;&gt;137394392323968 -->\n<g id=\"edge1\" class=\"edge\">\n<title>137394392323968*&#45;&gt;137394392323968</title>\n<path fill=\"none\" stroke=\"black\" d=\"M252.04,-73.5C259.63,-73.5 268.38,-73.5 277.6,-73.5\"/>\n<polygon fill=\"black\" stroke=\"black\" points=\"277.76,-77 287.76,-73.5 277.76,-70 277.76,-77\"/>\n</g>\n<!-- 137394392321424 -->\n<g id=\"node5\" class=\"node\">\n<title>137394392321424</title>\n<polygon fill=\"none\" stroke=\"black\" points=\"576,-27.5 576,-63.5 745,-63.5 745,-27.5 576,-27.5\"/>\n<text text-anchor=\"middle\" x=\"619.5\" y=\"-41.8\" font-family=\"Times,serif\" font-size=\"14.00\">data 11.0000</text>\n<polyline fill=\"none\" stroke=\"black\" points=\"663,-27.5 663,-63.5 \"/>\n<text text-anchor=\"middle\" x=\"704\" y=\"-41.8\" font-family=\"Times,serif\" font-size=\"14.00\">grad 0.0000</text>\n</g>\n<!-- 137394392321424+&#45;&gt;137394392321424 -->\n<g id=\"edge2\" class=\"edge\">\n<title>137394392321424+&#45;&gt;137394392321424</title>\n<path fill=\"none\" stroke=\"black\" d=\"M540.01,-45.5C547.58,-45.5 556.31,-45.5 565.54,-45.5\"/>\n<polygon fill=\"black\" stroke=\"black\" points=\"565.72,-49 575.72,-45.5 565.72,-42 565.72,-49\"/>\n</g>\n<!-- 137394392332224 -->\n<g id=\"node7\" class=\"node\">\n<title>137394392332224</title>\n<polygon fill=\"none\" stroke=\"black\" points=\"0,-28.5 0,-64.5 162,-64.5 162,-28.5 0,-28.5\"/>\n<text text-anchor=\"middle\" x=\"40\" y=\"-42.8\" font-family=\"Times,serif\" font-size=\"14.00\">data 2.0000</text>\n<polyline fill=\"none\" stroke=\"black\" points=\"80,-28.5 80,-64.5 \"/>\n<text text-anchor=\"middle\" x=\"121\" y=\"-42.8\" font-family=\"Times,serif\" font-size=\"14.00\">grad 0.0000</text>\n</g>\n<!-- 137394392332224&#45;&gt;137394392323968* -->\n<g id=\"edge4\" class=\"edge\">\n<title>137394392332224&#45;&gt;137394392323968*</title>\n<path fill=\"none\" stroke=\"black\" d=\"M162.13,-61.74C171.51,-63.52 180.67,-65.26 188.94,-66.83\"/>\n<polygon fill=\"black\" stroke=\"black\" points=\"188.43,-70.3 198.9,-68.73 189.73,-63.42 188.43,-70.3\"/>\n</g>\n</g>\n</svg>\n",
            "text/plain": [
              "<graphviz.graphs.Digraph at 0x7cf59ff2d960>"
            ]
          },
          "metadata": {},
          "execution_count": 10
        }
      ]
    },
    {
      "cell_type": "code",
      "source": [
        "L.backward()\n",
        "draw_dot(L)"
      ],
      "metadata": {
        "colab": {
          "base_uri": "https://localhost:8080/",
          "height": 193
        },
        "id": "YcQb2xKE6gwB",
        "outputId": "40ed3588-fa7d-420c-e016-4fca422e59a8"
      },
      "execution_count": null,
      "outputs": [
        {
          "output_type": "execute_result",
          "data": {
            "image/svg+xml": "<?xml version=\"1.0\" encoding=\"UTF-8\" standalone=\"no\"?>\n<!DOCTYPE svg PUBLIC \"-//W3C//DTD SVG 1.1//EN\"\n \"http://www.w3.org/Graphics/SVG/1.1/DTD/svg11.dtd\">\n<!-- Generated by graphviz version 2.43.0 (0)\n -->\n<!-- Title: %3 Pages: 1 -->\n<svg width=\"753pt\" height=\"128pt\"\n viewBox=\"0.00 0.00 753.00 128.00\" xmlns=\"http://www.w3.org/2000/svg\" xmlns:xlink=\"http://www.w3.org/1999/xlink\">\n<g id=\"graph0\" class=\"graph\" transform=\"scale(1 1) rotate(0) translate(4 124)\">\n<title>%3</title>\n<polygon fill=\"white\" stroke=\"transparent\" points=\"-4,4 -4,-124 749,-124 749,4 -4,4\"/>\n<!-- 137394392328768 -->\n<g id=\"node1\" class=\"node\">\n<title>137394392328768</title>\n<polygon fill=\"none\" stroke=\"black\" points=\"0,-83.5 0,-119.5 162,-119.5 162,-83.5 0,-83.5\"/>\n<text text-anchor=\"middle\" x=\"40\" y=\"-97.8\" font-family=\"Times,serif\" font-size=\"14.00\">data 4.0000</text>\n<polyline fill=\"none\" stroke=\"black\" points=\"80,-83.5 80,-119.5 \"/>\n<text text-anchor=\"middle\" x=\"121\" y=\"-97.8\" font-family=\"Times,serif\" font-size=\"14.00\">grad 2.0000</text>\n</g>\n<!-- 137394392323968* -->\n<g id=\"node4\" class=\"node\">\n<title>137394392323968*</title>\n<ellipse fill=\"none\" stroke=\"black\" cx=\"225\" cy=\"-73.5\" rx=\"27\" ry=\"18\"/>\n<text text-anchor=\"middle\" x=\"225\" y=\"-69.8\" font-family=\"Times,serif\" font-size=\"14.00\">*</text>\n</g>\n<!-- 137394392328768&#45;&gt;137394392323968* -->\n<g id=\"edge6\" class=\"edge\">\n<title>137394392328768&#45;&gt;137394392323968*</title>\n<path fill=\"none\" stroke=\"black\" d=\"M162.13,-85.7C171.51,-83.85 180.67,-82.04 188.94,-80.41\"/>\n<polygon fill=\"black\" stroke=\"black\" points=\"189.77,-83.82 198.9,-78.45 188.42,-76.95 189.77,-83.82\"/>\n</g>\n<!-- 137394392326080 -->\n<g id=\"node2\" class=\"node\">\n<title>137394392326080</title>\n<polygon fill=\"none\" stroke=\"black\" points=\"288,-0.5 288,-36.5 450,-36.5 450,-0.5 288,-0.5\"/>\n<text text-anchor=\"middle\" x=\"328\" y=\"-14.8\" font-family=\"Times,serif\" font-size=\"14.00\">data 3.0000</text>\n<polyline fill=\"none\" stroke=\"black\" points=\"368,-0.5 368,-36.5 \"/>\n<text text-anchor=\"middle\" x=\"409\" y=\"-14.8\" font-family=\"Times,serif\" font-size=\"14.00\">grad 1.0000</text>\n</g>\n<!-- 137394392321424+ -->\n<g id=\"node6\" class=\"node\">\n<title>137394392321424+</title>\n<ellipse fill=\"none\" stroke=\"black\" cx=\"513\" cy=\"-45.5\" rx=\"27\" ry=\"18\"/>\n<text text-anchor=\"middle\" x=\"513\" y=\"-41.8\" font-family=\"Times,serif\" font-size=\"14.00\">+</text>\n</g>\n<!-- 137394392326080&#45;&gt;137394392321424+ -->\n<g id=\"edge5\" class=\"edge\">\n<title>137394392326080&#45;&gt;137394392321424+</title>\n<path fill=\"none\" stroke=\"black\" d=\"M450.13,-33.74C459.51,-35.52 468.67,-37.26 476.94,-38.83\"/>\n<polygon fill=\"black\" stroke=\"black\" points=\"476.43,-42.3 486.9,-40.73 477.73,-35.42 476.43,-42.3\"/>\n</g>\n<!-- 137394392323968 -->\n<g id=\"node3\" class=\"node\">\n<title>137394392323968</title>\n<polygon fill=\"none\" stroke=\"black\" points=\"288,-55.5 288,-91.5 450,-91.5 450,-55.5 288,-55.5\"/>\n<text text-anchor=\"middle\" x=\"328\" y=\"-69.8\" font-family=\"Times,serif\" font-size=\"14.00\">data 8.0000</text>\n<polyline fill=\"none\" stroke=\"black\" points=\"368,-55.5 368,-91.5 \"/>\n<text text-anchor=\"middle\" x=\"409\" y=\"-69.8\" font-family=\"Times,serif\" font-size=\"14.00\">grad 1.0000</text>\n</g>\n<!-- 137394392323968&#45;&gt;137394392321424+ -->\n<g id=\"edge3\" class=\"edge\">\n<title>137394392323968&#45;&gt;137394392321424+</title>\n<path fill=\"none\" stroke=\"black\" d=\"M450.13,-57.7C459.51,-55.85 468.67,-54.04 476.94,-52.41\"/>\n<polygon fill=\"black\" stroke=\"black\" points=\"477.77,-55.82 486.9,-50.45 476.42,-48.95 477.77,-55.82\"/>\n</g>\n<!-- 137394392323968*&#45;&gt;137394392323968 -->\n<g id=\"edge1\" class=\"edge\">\n<title>137394392323968*&#45;&gt;137394392323968</title>\n<path fill=\"none\" stroke=\"black\" d=\"M252.04,-73.5C259.63,-73.5 268.38,-73.5 277.6,-73.5\"/>\n<polygon fill=\"black\" stroke=\"black\" points=\"277.76,-77 287.76,-73.5 277.76,-70 277.76,-77\"/>\n</g>\n<!-- 137394392321424 -->\n<g id=\"node5\" class=\"node\">\n<title>137394392321424</title>\n<polygon fill=\"none\" stroke=\"black\" points=\"576,-27.5 576,-63.5 745,-63.5 745,-27.5 576,-27.5\"/>\n<text text-anchor=\"middle\" x=\"619.5\" y=\"-41.8\" font-family=\"Times,serif\" font-size=\"14.00\">data 11.0000</text>\n<polyline fill=\"none\" stroke=\"black\" points=\"663,-27.5 663,-63.5 \"/>\n<text text-anchor=\"middle\" x=\"704\" y=\"-41.8\" font-family=\"Times,serif\" font-size=\"14.00\">grad 1.0000</text>\n</g>\n<!-- 137394392321424+&#45;&gt;137394392321424 -->\n<g id=\"edge2\" class=\"edge\">\n<title>137394392321424+&#45;&gt;137394392321424</title>\n<path fill=\"none\" stroke=\"black\" d=\"M540.01,-45.5C547.58,-45.5 556.31,-45.5 565.54,-45.5\"/>\n<polygon fill=\"black\" stroke=\"black\" points=\"565.72,-49 575.72,-45.5 565.72,-42 565.72,-49\"/>\n</g>\n<!-- 137394392332224 -->\n<g id=\"node7\" class=\"node\">\n<title>137394392332224</title>\n<polygon fill=\"none\" stroke=\"black\" points=\"0,-28.5 0,-64.5 162,-64.5 162,-28.5 0,-28.5\"/>\n<text text-anchor=\"middle\" x=\"40\" y=\"-42.8\" font-family=\"Times,serif\" font-size=\"14.00\">data 2.0000</text>\n<polyline fill=\"none\" stroke=\"black\" points=\"80,-28.5 80,-64.5 \"/>\n<text text-anchor=\"middle\" x=\"121\" y=\"-42.8\" font-family=\"Times,serif\" font-size=\"14.00\">grad 4.0000</text>\n</g>\n<!-- 137394392332224&#45;&gt;137394392323968* -->\n<g id=\"edge4\" class=\"edge\">\n<title>137394392332224&#45;&gt;137394392323968*</title>\n<path fill=\"none\" stroke=\"black\" d=\"M162.13,-61.74C171.51,-63.52 180.67,-65.26 188.94,-66.83\"/>\n<polygon fill=\"black\" stroke=\"black\" points=\"188.43,-70.3 198.9,-68.73 189.73,-63.42 188.43,-70.3\"/>\n</g>\n</g>\n</svg>\n",
            "text/plain": [
              "<graphviz.graphs.Digraph at 0x7cf59ff2f340>"
            ]
          },
          "metadata": {},
          "execution_count": 11
        }
      ]
    },
    {
      "cell_type": "markdown",
      "source": [
        "## Mathematics"
      ],
      "metadata": {
        "id": "R2eHlTmYWDwo"
      }
    },
    {
      "cell_type": "markdown",
      "source": [
        "### Mathematical Formulation --- Derivative\n",
        "\n",
        "$\n",
        "f'(x) = \\dfrac{df}{dx} = \\lim \\limits_{h \\to 0} \\dfrac{f(x + h) - f(x)}{h}\n",
        "$"
      ],
      "metadata": {
        "id": "aqFWlpagaf9Q"
      }
    },
    {
      "cell_type": "code",
      "source": [
        "def f(x):\n",
        "  return 2*x"
      ],
      "metadata": {
        "id": "QzoEtlTZZyWy"
      },
      "execution_count": null,
      "outputs": []
    },
    {
      "cell_type": "code",
      "source": [
        "print(f'f(0) = {f(0)}')\n",
        "print(f'f(1) = {f(1)}')\n",
        "print(f'f(3) = {f(3)}')"
      ],
      "metadata": {
        "colab": {
          "base_uri": "https://localhost:8080/"
        },
        "id": "GdmedIy8Z1dN",
        "outputId": "59cae61b-9939-4f44-dca6-0b27e086b442"
      },
      "execution_count": null,
      "outputs": [
        {
          "output_type": "stream",
          "name": "stdout",
          "text": [
            "f(0) = 0\n",
            "f(1) = 2\n",
            "f(3) = 6\n"
          ]
        }
      ]
    },
    {
      "cell_type": "code",
      "source": [
        "xs = np.arange(-5,5,.25)\n",
        "ys = f(xs)\n",
        "y = [2 for i in range(len(xs))]\n",
        "plt.plot(xs, ys, label = 'f (x)')\n",
        "plt.plot(xs, y, label = 'f \\'(x)')\n",
        "plt.legend()\n",
        "plt.grid()\n",
        "plt.show()"
      ],
      "metadata": {
        "colab": {
          "base_uri": "https://localhost:8080/",
          "height": 430
        },
        "id": "l714GroSZ-A9",
        "outputId": "c1b7035c-5fda-4dc8-ccf3-b290da979045"
      },
      "execution_count": null,
      "outputs": [
        {
          "output_type": "display_data",
          "data": {
            "text/plain": [
              "<Figure size 640x480 with 1 Axes>"
            ],
            "image/png": "[encoded data removed]"
          },
          "metadata": {}
        }
      ]
    },
    {
      "cell_type": "code",
      "source": [
        "def f(x):\n",
        "  return 3 * x**2 - 4 * x +5"
      ],
      "metadata": {
        "id": "1t4pBnybGvqD"
      },
      "execution_count": null,
      "outputs": []
    },
    {
      "cell_type": "markdown",
      "source": [
        "$g(x) = 3x^2 - 4x + 5$"
      ],
      "metadata": {
        "id": "1wgFilBKrXUZ"
      }
    },
    {
      "cell_type": "code",
      "source": [
        "print(f'f(0) = {f(0)}')\n",
        "print(f'f(1) = {f(1)}')\n",
        "print(f'f(-4) = {f(-2)}')"
      ],
      "metadata": {
        "colab": {
          "base_uri": "https://localhost:8080/"
        },
        "id": "14sFzyPzrggE",
        "outputId": "1d968159-6e05-4691-df6e-fe09d39cadd7"
      },
      "execution_count": null,
      "outputs": [
        {
          "output_type": "stream",
          "name": "stdout",
          "text": [
            "f(0) = 5\n",
            "f(1) = 4\n",
            "f(-4) = 25\n"
          ]
        }
      ]
    },
    {
      "cell_type": "markdown",
      "source": [
        "For example $\\dfrac{df}{dx} = 6x - 4$\n",
        "\n"
      ],
      "metadata": {
        "id": "sIGA3NiMMLVc"
      }
    },
    {
      "cell_type": "code",
      "source": [
        "def dfdx(x):\n",
        "  return 6 * x - 4\n",
        "\n",
        "xs = np.arange(-5,5,.25)\n",
        "ys = f(xs)\n",
        "ys2 = dfdx(xs)\n",
        "\n",
        "plt.plot(xs, ys, label = 'f (x)')\n",
        "plt.plot(xs, ys2, label = 'f \\'(x)')\n",
        "plt.legend()\n",
        "plt.grid()\n",
        "plt.show()"
      ],
      "metadata": {
        "colab": {
          "base_uri": "https://localhost:8080/",
          "height": 430
        },
        "id": "DH3Qq3TqG4nX",
        "outputId": "7c264834-1ac8-4230-bc45-a41512ebc5d9"
      },
      "execution_count": null,
      "outputs": [
        {
          "output_type": "display_data",
          "data": {
            "text/plain": [
              "<Figure size 640x480 with 1 Axes>"
            ],
            "image/png": "[encoded data removed]"
          },
          "metadata": {}
        }
      ]
    },
    {
      "cell_type": "markdown",
      "source": [
        "### Mathematical Formulation --- Gradient\n",
        "\n",
        "$ \\nabla f(x_1, x_2, ... x_n) = \\langle \\dfrac{\\partial f}{\\partial x_1} , \\dfrac{\\partial f}{\\partial x_2}, ... \\dfrac{\\partial f}{\\partial x_n}\\rangle$\n",
        "\n",
        "<br>\n",
        "\n",
        "**Points in the direction of greatest change!**\n",
        "<br>\n",
        "Drawing Time!"
      ],
      "metadata": {
        "id": "06pNYUOWmen6"
      }
    },
    {
      "cell_type": "markdown",
      "source": [
        "### Mathematical Formulation --- Chain Rule\n",
        "\n",
        "**If a car is going 4 times as fast as a biker and the biker is going 2 times as fast as a pedestrian, how fast is the car going w.r.t the pedestrian??**\n",
        "\n",
        "\n"
      ],
      "metadata": {
        "id": "-MgkxhW-Yntd"
      }
    },
    {
      "cell_type": "markdown",
      "source": [
        "For a variable $z$, which is dependent upon $y$, which is dependent upon $x$, the derivative of $z$ w.r.t $x$ is:\n",
        "<br>\n",
        "<br>\n",
        "$\\dfrac{dz}{dx} = \\dfrac{dz}{dy} * \\dfrac{dy}{dx}$\n",
        "\n",
        "<br>\n",
        "\n",
        "Equivalently, for a funciton $h(x) = f(g(x))$ the derivative is $h'(x) = f'(g(x)) * g'(x)$"
      ],
      "metadata": {
        "id": "_hRX0-xFS2c7"
      }
    },
    {
      "cell_type": "markdown",
      "source": [
        "## Neurons, Layers, MLPs, Oh My!"
      ],
      "metadata": {
        "id": "ZDTB03L5WOoW"
      }
    },
    {
      "cell_type": "markdown",
      "source": [
        "### Forward Pass"
      ],
      "metadata": {
        "id": "a4kHoCgr_JKn"
      }
    },
    {
      "cell_type": "code",
      "source": [
        "np.random.seed(1337)\n",
        "random.seed(1337)\n",
        "\n",
        "input = Value(2.0)\n",
        "w = Value(4.0)\n",
        "b = Value(3.0)\n",
        "\n",
        "y = w * input\n",
        "L = y + b\n",
        "\n",
        "L.backward()\n",
        "draw_dot(L)"
      ],
      "metadata": {
        "colab": {
          "base_uri": "https://localhost:8080/",
          "height": 191
        },
        "id": "m9kuP8PNHFqC",
        "outputId": "9ace6d05-b855-4539-a156-e8e08d9cfd9e"
      },
      "execution_count": null,
      "outputs": [
        {
          "output_type": "execute_result",
          "data": {
            "image/svg+xml": "<?xml version=\"1.0\" encoding=\"UTF-8\" standalone=\"no\"?>\n<!DOCTYPE svg PUBLIC \"-//W3C//DTD SVG 1.1//EN\"\n \"http://www.w3.org/Graphics/SVG/1.1/DTD/svg11.dtd\">\n<!-- Generated by graphviz version 2.43.0 (0)\n -->\n<!-- Title: %3 Pages: 1 -->\n<svg width=\"753pt\" height=\"127pt\"\n viewBox=\"0.00 0.00 753.00 127.00\" xmlns=\"http://www.w3.org/2000/svg\" xmlns:xlink=\"http://www.w3.org/1999/xlink\">\n<g id=\"graph0\" class=\"graph\" transform=\"scale(1 1) rotate(0) translate(4 123)\">\n<title>%3</title>\n<polygon fill=\"white\" stroke=\"transparent\" points=\"-4,4 -4,-123 749,-123 749,4 -4,4\"/>\n<!-- 137394254984240 -->\n<g id=\"node1\" class=\"node\">\n<title>137394254984240</title>\n<polygon fill=\"none\" stroke=\"black\" points=\"288,-82.5 288,-118.5 450,-118.5 450,-82.5 288,-82.5\"/>\n<text text-anchor=\"middle\" x=\"328\" y=\"-96.8\" font-family=\"Times,serif\" font-size=\"14.00\">data 3.0000</text>\n<polyline fill=\"none\" stroke=\"black\" points=\"368,-82.5 368,-118.5 \"/>\n<text text-anchor=\"middle\" x=\"409\" y=\"-96.8\" font-family=\"Times,serif\" font-size=\"14.00\">grad 1.0000</text>\n</g>\n<!-- 137394254983328+ -->\n<g id=\"node3\" class=\"node\">\n<title>137394254983328+</title>\n<ellipse fill=\"none\" stroke=\"black\" cx=\"513\" cy=\"-72.5\" rx=\"27\" ry=\"18\"/>\n<text text-anchor=\"middle\" x=\"513\" y=\"-68.8\" font-family=\"Times,serif\" font-size=\"14.00\">+</text>\n</g>\n<!-- 137394254984240&#45;&gt;137394254983328+ -->\n<g id=\"edge4\" class=\"edge\">\n<title>137394254984240&#45;&gt;137394254983328+</title>\n<path fill=\"none\" stroke=\"black\" d=\"M450.13,-84.7C459.51,-82.85 468.67,-81.04 476.94,-79.41\"/>\n<polygon fill=\"black\" stroke=\"black\" points=\"477.77,-82.82 486.9,-77.45 476.42,-75.95 477.77,-82.82\"/>\n</g>\n<!-- 137394254983328 -->\n<g id=\"node2\" class=\"node\">\n<title>137394254983328</title>\n<polygon fill=\"none\" stroke=\"black\" points=\"576,-54.5 576,-90.5 745,-90.5 745,-54.5 576,-54.5\"/>\n<text text-anchor=\"middle\" x=\"619.5\" y=\"-68.8\" font-family=\"Times,serif\" font-size=\"14.00\">data 11.0000</text>\n<polyline fill=\"none\" stroke=\"black\" points=\"663,-54.5 663,-90.5 \"/>\n<text text-anchor=\"middle\" x=\"704\" y=\"-68.8\" font-family=\"Times,serif\" font-size=\"14.00\">grad 1.0000</text>\n</g>\n<!-- 137394254983328+&#45;&gt;137394254983328 -->\n<g id=\"edge1\" class=\"edge\">\n<title>137394254983328+&#45;&gt;137394254983328</title>\n<path fill=\"none\" stroke=\"black\" d=\"M540.01,-72.5C547.58,-72.5 556.31,-72.5 565.54,-72.5\"/>\n<polygon fill=\"black\" stroke=\"black\" points=\"565.72,-76 575.72,-72.5 565.72,-69 565.72,-76\"/>\n</g>\n<!-- 137394254982368 -->\n<g id=\"node4\" class=\"node\">\n<title>137394254982368</title>\n<polygon fill=\"none\" stroke=\"black\" points=\"288,-27.5 288,-63.5 450,-63.5 450,-27.5 288,-27.5\"/>\n<text text-anchor=\"middle\" x=\"328\" y=\"-41.8\" font-family=\"Times,serif\" font-size=\"14.00\">data 8.0000</text>\n<polyline fill=\"none\" stroke=\"black\" points=\"368,-27.5 368,-63.5 \"/>\n<text text-anchor=\"middle\" x=\"409\" y=\"-41.8\" font-family=\"Times,serif\" font-size=\"14.00\">grad 1.0000</text>\n</g>\n<!-- 137394254982368&#45;&gt;137394254983328+ -->\n<g id=\"edge3\" class=\"edge\">\n<title>137394254982368&#45;&gt;137394254983328+</title>\n<path fill=\"none\" stroke=\"black\" d=\"M450.13,-60.74C459.51,-62.52 468.67,-64.26 476.94,-65.83\"/>\n<polygon fill=\"black\" stroke=\"black\" points=\"476.43,-69.3 486.9,-67.73 477.73,-62.42 476.43,-69.3\"/>\n</g>\n<!-- 137394254982368* -->\n<g id=\"node5\" class=\"node\">\n<title>137394254982368*</title>\n<ellipse fill=\"none\" stroke=\"black\" cx=\"225\" cy=\"-45.5\" rx=\"27\" ry=\"18\"/>\n<text text-anchor=\"middle\" x=\"225\" y=\"-41.8\" font-family=\"Times,serif\" font-size=\"14.00\">*</text>\n</g>\n<!-- 137394254982368*&#45;&gt;137394254982368 -->\n<g id=\"edge2\" class=\"edge\">\n<title>137394254982368*&#45;&gt;137394254982368</title>\n<path fill=\"none\" stroke=\"black\" d=\"M252.04,-45.5C259.63,-45.5 268.38,-45.5 277.6,-45.5\"/>\n<polygon fill=\"black\" stroke=\"black\" points=\"277.76,-49 287.76,-45.5 277.76,-42 277.76,-49\"/>\n</g>\n<!-- 137394254986496 -->\n<g id=\"node6\" class=\"node\">\n<title>137394254986496</title>\n<polygon fill=\"none\" stroke=\"black\" points=\"0,-55.5 0,-91.5 162,-91.5 162,-55.5 0,-55.5\"/>\n<text text-anchor=\"middle\" x=\"40\" y=\"-69.8\" font-family=\"Times,serif\" font-size=\"14.00\">data 4.0000</text>\n<polyline fill=\"none\" stroke=\"black\" points=\"80,-55.5 80,-91.5 \"/>\n<text text-anchor=\"middle\" x=\"121\" y=\"-69.8\" font-family=\"Times,serif\" font-size=\"14.00\">grad 2.0000</text>\n</g>\n<!-- 137394254986496&#45;&gt;137394254982368* -->\n<g id=\"edge5\" class=\"edge\">\n<title>137394254986496&#45;&gt;137394254982368*</title>\n<path fill=\"none\" stroke=\"black\" d=\"M162.13,-57.7C171.51,-55.85 180.67,-54.04 188.94,-52.41\"/>\n<polygon fill=\"black\" stroke=\"black\" points=\"189.77,-55.82 198.9,-50.45 188.42,-48.95 189.77,-55.82\"/>\n</g>\n<!-- 137394254981936 -->\n<g id=\"node7\" class=\"node\">\n<title>137394254981936</title>\n<polygon fill=\"none\" stroke=\"black\" points=\"0,-0.5 0,-36.5 162,-36.5 162,-0.5 0,-0.5\"/>\n<text text-anchor=\"middle\" x=\"40\" y=\"-14.8\" font-family=\"Times,serif\" font-size=\"14.00\">data 2.0000</text>\n<polyline fill=\"none\" stroke=\"black\" points=\"80,-0.5 80,-36.5 \"/>\n<text text-anchor=\"middle\" x=\"121\" y=\"-14.8\" font-family=\"Times,serif\" font-size=\"14.00\">grad 4.0000</text>\n</g>\n<!-- 137394254981936&#45;&gt;137394254982368* -->\n<g id=\"edge6\" class=\"edge\">\n<title>137394254981936&#45;&gt;137394254982368*</title>\n<path fill=\"none\" stroke=\"black\" d=\"M162.13,-33.74C171.51,-35.52 180.67,-37.26 188.94,-38.83\"/>\n<polygon fill=\"black\" stroke=\"black\" points=\"188.43,-42.3 198.9,-40.73 189.73,-35.42 188.43,-42.3\"/>\n</g>\n</g>\n</svg>\n",
            "text/plain": [
              "<graphviz.graphs.Digraph at 0x7cf597c33cd0>"
            ]
          },
          "metadata": {},
          "execution_count": 45
        }
      ]
    },
    {
      "cell_type": "markdown",
      "source": [
        "### Back Propagation\n",
        "\n",
        "\n",
        "\n",
        "\n"
      ],
      "metadata": {
        "id": "fLMLE-xEyHAV"
      }
    },
    {
      "cell_type": "markdown",
      "source": [
        "$ \\dfrac{dL}{dw} = \\dfrac{dL}{dy} * \\dfrac{dy}{dw}$\n",
        "\n",
        "<br>\n",
        "<br>\n",
        "\n",
        "$ \\dfrac{dL}{dy} = 1$\n",
        "<br>\n",
        "<br>\n",
        "$\\dfrac{dy}{dw} = 2$\n",
        "<br>\n",
        "<br>\n"
      ],
      "metadata": {
        "id": "Is9rC5i4PwZp"
      }
    },
    {
      "cell_type": "code",
      "source": [
        "L.backward()\n",
        "draw_dot(L)"
      ],
      "metadata": {
        "colab": {
          "base_uri": "https://localhost:8080/",
          "height": 193
        },
        "id": "gy28oLzlNkvo",
        "outputId": "9fe0d1be-88dc-4295-8c14-b82741190814"
      },
      "execution_count": null,
      "outputs": [
        {
          "output_type": "execute_result",
          "data": {
            "image/svg+xml": "<?xml version=\"1.0\" encoding=\"UTF-8\" standalone=\"no\"?>\n<!DOCTYPE svg PUBLIC \"-//W3C//DTD SVG 1.1//EN\"\n \"http://www.w3.org/Graphics/SVG/1.1/DTD/svg11.dtd\">\n<!-- Generated by graphviz version 2.43.0 (0)\n -->\n<!-- Title: %3 Pages: 1 -->\n<svg width=\"753pt\" height=\"128pt\"\n viewBox=\"0.00 0.00 753.00 128.00\" xmlns=\"http://www.w3.org/2000/svg\" xmlns:xlink=\"http://www.w3.org/1999/xlink\">\n<g id=\"graph0\" class=\"graph\" transform=\"scale(1 1) rotate(0) translate(4 124)\">\n<title>%3</title>\n<polygon fill=\"white\" stroke=\"transparent\" points=\"-4,4 -4,-124 749,-124 749,4 -4,4\"/>\n<!-- 135819761206848 -->\n<g id=\"node1\" class=\"node\">\n<title>135819761206848</title>\n<polygon fill=\"none\" stroke=\"black\" points=\"0,-83.5 0,-119.5 162,-119.5 162,-83.5 0,-83.5\"/>\n<text text-anchor=\"middle\" x=\"40\" y=\"-97.8\" font-family=\"Times,serif\" font-size=\"14.00\">data 2.0000</text>\n<polyline fill=\"none\" stroke=\"black\" points=\"80,-83.5 80,-119.5 \"/>\n<text text-anchor=\"middle\" x=\"121\" y=\"-97.8\" font-family=\"Times,serif\" font-size=\"14.00\">grad 4.0000</text>\n</g>\n<!-- 135819761205936* -->\n<g id=\"node5\" class=\"node\">\n<title>135819761205936*</title>\n<ellipse fill=\"none\" stroke=\"black\" cx=\"225\" cy=\"-73.5\" rx=\"27\" ry=\"18\"/>\n<text text-anchor=\"middle\" x=\"225\" y=\"-69.8\" font-family=\"Times,serif\" font-size=\"14.00\">*</text>\n</g>\n<!-- 135819761206848&#45;&gt;135819761205936* -->\n<g id=\"edge5\" class=\"edge\">\n<title>135819761206848&#45;&gt;135819761205936*</title>\n<path fill=\"none\" stroke=\"black\" d=\"M162.13,-85.7C171.51,-83.85 180.67,-82.04 188.94,-80.41\"/>\n<polygon fill=\"black\" stroke=\"black\" points=\"189.77,-83.82 198.9,-78.45 188.42,-76.95 189.77,-83.82\"/>\n</g>\n<!-- 135819761207376 -->\n<g id=\"node2\" class=\"node\">\n<title>135819761207376</title>\n<polygon fill=\"none\" stroke=\"black\" points=\"576,-27.5 576,-63.5 745,-63.5 745,-27.5 576,-27.5\"/>\n<text text-anchor=\"middle\" x=\"619.5\" y=\"-41.8\" font-family=\"Times,serif\" font-size=\"14.00\">data 11.0000</text>\n<polyline fill=\"none\" stroke=\"black\" points=\"663,-27.5 663,-63.5 \"/>\n<text text-anchor=\"middle\" x=\"704\" y=\"-41.8\" font-family=\"Times,serif\" font-size=\"14.00\">grad 1.0000</text>\n</g>\n<!-- 135819761207376+ -->\n<g id=\"node3\" class=\"node\">\n<title>135819761207376+</title>\n<ellipse fill=\"none\" stroke=\"black\" cx=\"513\" cy=\"-45.5\" rx=\"27\" ry=\"18\"/>\n<text text-anchor=\"middle\" x=\"513\" y=\"-41.8\" font-family=\"Times,serif\" font-size=\"14.00\">+</text>\n</g>\n<!-- 135819761207376+&#45;&gt;135819761207376 -->\n<g id=\"edge1\" class=\"edge\">\n<title>135819761207376+&#45;&gt;135819761207376</title>\n<path fill=\"none\" stroke=\"black\" d=\"M540.01,-45.5C547.58,-45.5 556.31,-45.5 565.54,-45.5\"/>\n<polygon fill=\"black\" stroke=\"black\" points=\"565.72,-49 575.72,-45.5 565.72,-42 565.72,-49\"/>\n</g>\n<!-- 135819761205936 -->\n<g id=\"node4\" class=\"node\">\n<title>135819761205936</title>\n<polygon fill=\"none\" stroke=\"black\" points=\"288,-55.5 288,-91.5 450,-91.5 450,-55.5 288,-55.5\"/>\n<text text-anchor=\"middle\" x=\"328\" y=\"-69.8\" font-family=\"Times,serif\" font-size=\"14.00\">data 8.0000</text>\n<polyline fill=\"none\" stroke=\"black\" points=\"368,-55.5 368,-91.5 \"/>\n<text text-anchor=\"middle\" x=\"409\" y=\"-69.8\" font-family=\"Times,serif\" font-size=\"14.00\">grad 1.0000</text>\n</g>\n<!-- 135819761205936&#45;&gt;135819761207376+ -->\n<g id=\"edge3\" class=\"edge\">\n<title>135819761205936&#45;&gt;135819761207376+</title>\n<path fill=\"none\" stroke=\"black\" d=\"M450.13,-57.7C459.51,-55.85 468.67,-54.04 476.94,-52.41\"/>\n<polygon fill=\"black\" stroke=\"black\" points=\"477.77,-55.82 486.9,-50.45 476.42,-48.95 477.77,-55.82\"/>\n</g>\n<!-- 135819761205936*&#45;&gt;135819761205936 -->\n<g id=\"edge2\" class=\"edge\">\n<title>135819761205936*&#45;&gt;135819761205936</title>\n<path fill=\"none\" stroke=\"black\" d=\"M252.04,-73.5C259.63,-73.5 268.38,-73.5 277.6,-73.5\"/>\n<polygon fill=\"black\" stroke=\"black\" points=\"277.76,-77 287.76,-73.5 277.76,-70 277.76,-77\"/>\n</g>\n<!-- 135819761207184 -->\n<g id=\"node6\" class=\"node\">\n<title>135819761207184</title>\n<polygon fill=\"none\" stroke=\"black\" points=\"288,-0.5 288,-36.5 450,-36.5 450,-0.5 288,-0.5\"/>\n<text text-anchor=\"middle\" x=\"328\" y=\"-14.8\" font-family=\"Times,serif\" font-size=\"14.00\">data 3.0000</text>\n<polyline fill=\"none\" stroke=\"black\" points=\"368,-0.5 368,-36.5 \"/>\n<text text-anchor=\"middle\" x=\"409\" y=\"-14.8\" font-family=\"Times,serif\" font-size=\"14.00\">grad 1.0000</text>\n</g>\n<!-- 135819761207184&#45;&gt;135819761207376+ -->\n<g id=\"edge6\" class=\"edge\">\n<title>135819761207184&#45;&gt;135819761207376+</title>\n<path fill=\"none\" stroke=\"black\" d=\"M450.13,-33.74C459.51,-35.52 468.67,-37.26 476.94,-38.83\"/>\n<polygon fill=\"black\" stroke=\"black\" points=\"476.43,-42.3 486.9,-40.73 477.73,-35.42 476.43,-42.3\"/>\n</g>\n<!-- 135819761208768 -->\n<g id=\"node7\" class=\"node\">\n<title>135819761208768</title>\n<polygon fill=\"none\" stroke=\"black\" points=\"0,-28.5 0,-64.5 162,-64.5 162,-28.5 0,-28.5\"/>\n<text text-anchor=\"middle\" x=\"40\" y=\"-42.8\" font-family=\"Times,serif\" font-size=\"14.00\">data 4.0000</text>\n<polyline fill=\"none\" stroke=\"black\" points=\"80,-28.5 80,-64.5 \"/>\n<text text-anchor=\"middle\" x=\"121\" y=\"-42.8\" font-family=\"Times,serif\" font-size=\"14.00\">grad 2.0000</text>\n</g>\n<!-- 135819761208768&#45;&gt;135819761205936* -->\n<g id=\"edge4\" class=\"edge\">\n<title>135819761208768&#45;&gt;135819761205936*</title>\n<path fill=\"none\" stroke=\"black\" d=\"M162.13,-61.74C171.51,-63.52 180.67,-65.26 188.94,-66.83\"/>\n<polygon fill=\"black\" stroke=\"black\" points=\"188.43,-70.3 198.9,-68.73 189.73,-63.42 188.43,-70.3\"/>\n</g>\n</g>\n</svg>\n",
            "text/plain": [
              "<graphviz.graphs.Digraph at 0x7b87009ece80>"
            ]
          },
          "metadata": {},
          "execution_count": 41
        }
      ]
    },
    {
      "cell_type": "markdown",
      "source": [
        "### Activation Functions"
      ],
      "metadata": {
        "id": "A1IDeLT0ztLY"
      }
    },
    {
      "cell_type": "code",
      "source": [
        "plt.plot(np.arange(-5,5,.2), np.tanh(np.arange(-5,5,0.2))); plt.grid();"
      ],
      "metadata": {
        "colab": {
          "base_uri": "https://localhost:8080/"
        },
        "id": "WSr_tM6PzrqR",
        "outputId": "3165cf74-bc7c-47df-d12f-477d96246c08"
      },
      "execution_count": null,
      "outputs": [
        {
          "output_type": "display_data",
          "data": {
            "text/plain": [
              "<Figure size 640x480 with 1 Axes>"
            ],
            "image/png": "[encoded data removed]"
          },
          "metadata": {}
        }
      ]
    },
    {
      "cell_type": "code",
      "source": [
        "def sigmoid(X):\n",
        "   return 1/(1+np.exp(-X))\n",
        "\n",
        "plt.plot(np.arange(-5,5,.2), sigmoid(np.arange(-5,5,0.2))); plt.grid();"
      ],
      "metadata": {
        "colab": {
          "base_uri": "https://localhost:8080/"
        },
        "id": "hMFaqyOT0F0D",
        "outputId": "1858d80f-c741-40c5-d4c2-76e4108a5c1d"
      },
      "execution_count": null,
      "outputs": [
        {
          "output_type": "display_data",
          "data": {
            "text/plain": [
              "<Figure size 640x480 with 1 Axes>"
            ],
            "image/png": "[encoded data removed]"
          },
          "metadata": {}
        }
      ]
    },
    {
      "cell_type": "code",
      "source": [
        "def relu(X):\n",
        "   return np.maximum(0,X)\n",
        "\n",
        "plt.plot(np.arange(-5,5,.2), relu(np.arange(-5,5,0.2))); plt.grid();"
      ],
      "metadata": {
        "colab": {
          "base_uri": "https://localhost:8080/"
        },
        "id": "FLg9h7wl0lcE",
        "outputId": "c84bdadf-7146-479a-8b1a-b4f8c1a5d7a1"
      },
      "execution_count": null,
      "outputs": [
        {
          "output_type": "display_data",
          "data": {
            "text/plain": [
              "<Figure size 640x480 with 1 Axes>"
            ],
            "image/png": "[encoded data removed]"
          },
          "metadata": {}
        }
      ]
    },
    {
      "cell_type": "markdown",
      "source": [
        "### Loss Functions\n"
      ],
      "metadata": {
        "id": "GbzU04BvRtfr"
      }
    },
    {
      "cell_type": "markdown",
      "source": [
        "Used to measure the degree to which are predicted values differ from the actual value.\n",
        "\n",
        "Examples:\n",
        "\n",
        "**MSE** = $\\displaystyle \\dfrac{1}{N} * \\sum_{i}^{N}  (y_i - \\bar y)^2$\n",
        "<br>\n",
        "**Log Loss** <br>\n",
        "**Binary Cross Entropy**\n"
      ],
      "metadata": {
        "id": "_dw1XPlZTA0B"
      }
    },
    {
      "cell_type": "code",
      "source": [
        "# The 'y_pred' list is a list probabilities; the probability that the input value is class 1.\n",
        "# The 'y_true' list is a list of the class values\n",
        "def binary_cross_entropy(y_pred, y_true):\n",
        "\n",
        "  assert len(y_pred) == len(y_true) # sum of samples equals num of labels\n",
        "\n",
        "  def sig(x):\n",
        "    return 1/(1 + np.exp(-x))\n",
        "\n",
        "  y_pred = np.array([sig(y.data) for y in y_pred])\n",
        "  y_true = np.array(y_true)\n",
        "\n",
        "  y_pred = np.clip(y_pred, 1e-15, 1 - 1e-15)\n",
        "  loss = -np.mean(y_true * np.log(y_pred) + (1 - y_true) * np.log(1 - y_pred))\n",
        "  return Value(loss, ())"
      ],
      "metadata": {
        "id": "0C1nWwmvRvoy"
      },
      "execution_count": null,
      "outputs": []
    },
    {
      "cell_type": "code",
      "source": [
        "def max_margin_loss(scores, y_true):\n",
        "\n",
        "  losses = [(1 + -yi*scorei).relu() for yi, scorei in zip(y_true, scores)]\n",
        "  avg_loss = sum(losses) * (1.0 / len(losses))\n",
        "\n",
        "  return avg_loss"
      ],
      "metadata": {
        "id": "0kwhYrRRVm8A"
      },
      "execution_count": 29,
      "outputs": []
    },
    {
      "cell_type": "code",
      "source": [
        "def mse(y_pred, y_true):\n",
        "  losses = [(pred - true)**2 for pred, true in zip(y_pred, y_true)]\n",
        "  loss = sum(losses) * (1.0 / len(losses))\n",
        "  return loss"
      ],
      "metadata": {
        "id": "37zFjck3Dwu3"
      },
      "execution_count": 9,
      "outputs": []
    },
    {
      "cell_type": "code",
      "source": [
        "# CHALLENGE: IMPLEMENT A LOSS FUNCTION\n",
        "\n",
        "def your_loss_func(y_pred, y_true):\n",
        "  pass"
      ],
      "metadata": {
        "id": "kP8h87bjH0NJ"
      },
      "execution_count": null,
      "outputs": []
    },
    {
      "cell_type": "code",
      "source": [
        "preds = [Value(-1), Value(1)]\n",
        "true = [-1,1]\n",
        "\n",
        "max_margin_loss(preds, true)"
      ],
      "metadata": {
        "id": "hF3okyAJePXd",
        "colab": {
          "base_uri": "https://localhost:8080/"
        },
        "outputId": "b3c2b0f6-b8e8-4b97-d4e6-13df2a2fe12d"
      },
      "execution_count": 31,
      "outputs": [
        {
          "output_type": "execute_result",
          "data": {
            "text/plain": [
              "Value(data=0.0, grad=0)"
            ]
          },
          "metadata": {},
          "execution_count": 31
        }
      ]
    },
    {
      "cell_type": "code",
      "source": [
        "preds = [Value(9), Value(10)]\n",
        "true = [10, 12]\n",
        "\n",
        "mse(preds, true)"
      ],
      "metadata": {
        "colab": {
          "base_uri": "https://localhost:8080/"
        },
        "id": "U2Cd3rdsFT2b",
        "outputId": "0a5da8c3-66f5-4adf-cd55-d806addeb644"
      },
      "execution_count": 22,
      "outputs": [
        {
          "output_type": "execute_result",
          "data": {
            "text/plain": [
              "Value(data=2.5, grad=0)"
            ]
          },
          "metadata": {},
          "execution_count": 22
        }
      ]
    },
    {
      "cell_type": "markdown",
      "source": [
        "### Neuron\n",
        "\n",
        "Each Neuron has $x + 1$ parameters, where $x$ is the size of the input vector.\n",
        "\n",
        "The gradient is taken, w.r.t each parameter."
      ],
      "metadata": {
        "id": "XCq7CADP6AO0"
      }
    },
    {
      "cell_type": "markdown",
      "source": [
        "[Karpathys Images](https://www.google.com/search?sca_esv=85596a7ea76cb4a1&sca_upv=1&sxsrf=ACQVn0_iOIZxTq0luSnk6ZxtoNvM24NjaA:1713623320069&q=cs231n+neuron&uds=AMwkrPuyqEkls4Ckdf3Xn72nW7AL5CkHaCVWGs-cajomsokn8lOgguukz8CJTWucGKTgs8RH5HpesZTC0gzC0TMraaPqrftHoYDSwdaYPUzd6fdXHboLHoFbkpnxsrUAZAYl4hNN22-hRnrMLw-kZFilhSRN5RFVYivGKQZwHaOpI-StzgKTJJCBXiMVMuefiXEkf8uF9pr5RM2OxAjPcN06yS-VDOwK4SpP6LwcGx8LGbpdQBriTm2m__-JmaMBZc8IaJE2UlcBqWo3XqC_H4UfXDrC0UEQofORMBAVTCoCHPQWbhMn1K6JZTF-narrp1A_FQz3TaYS&udm=2&prmd=ivsnmbtz&sa=X&ved=2ahUKEwjp2JWqgNGFAxW9ADQIHVr9An8QtKgLegQIGxAB&biw=1278&bih=917&dpr=1#vhid=EErT7l9gJn-7uM&vssid=mosaic)"
      ],
      "metadata": {
        "id": "GD8A2TnVN6KF"
      }
    },
    {
      "cell_type": "code",
      "source": [
        "from micrograd.nn import Neuron\n",
        "\n",
        "n = Neuron(3)"
      ],
      "metadata": {
        "id": "hG52DjLIMHar"
      },
      "execution_count": null,
      "outputs": []
    },
    {
      "cell_type": "code",
      "source": [
        "len(n.parameters())"
      ],
      "metadata": {
        "colab": {
          "base_uri": "https://localhost:8080/"
        },
        "id": "F3YSVXsLMkn_",
        "outputId": "63111d18-4ac8-4aea-c810-2e96f0ea592e"
      },
      "execution_count": null,
      "outputs": [
        {
          "output_type": "execute_result",
          "data": {
            "text/plain": [
              "4"
            ]
          },
          "metadata": {},
          "execution_count": 47
        }
      ]
    },
    {
      "cell_type": "markdown",
      "source": [
        "### Layer"
      ],
      "metadata": {
        "id": "GyoZMtDOMHx-"
      }
    },
    {
      "cell_type": "code",
      "source": [
        "x = [Value(1.0), Value(3.0), Value(2.0), Value(1.0), Value(2.0), Value(5.0)]"
      ],
      "metadata": {
        "id": "bRhhIoDruLuy"
      },
      "execution_count": null,
      "outputs": []
    },
    {
      "cell_type": "code",
      "source": [
        "from micrograd.nn import Layer\n",
        "\n",
        "layer = Layer(6, 3)\n",
        "layer(x)"
      ],
      "metadata": {
        "colab": {
          "base_uri": "https://localhost:8080/"
        },
        "id": "EiKg3g4HwuHm",
        "outputId": "f86e2692-b321-4121-dd5a-7e4eed3cf2ec"
      },
      "execution_count": null,
      "outputs": [
        {
          "output_type": "execute_result",
          "data": {
            "text/plain": [
              "[Value(data=2.54235289377313, grad=0),\n",
              " Value(data=1.3107754360551502, grad=0),\n",
              " Value(data=0, grad=0)]"
            ]
          },
          "metadata": {},
          "execution_count": 20
        }
      ]
    },
    {
      "cell_type": "markdown",
      "source": [
        "A Neuron is a Column!\n",
        "A Layer is a matrix!\n",
        "A MLP is multiple matrixs!"
      ],
      "metadata": {
        "id": "mr6YwN_4yT4M"
      }
    },
    {
      "cell_type": "markdown",
      "source": [
        "### MLP"
      ],
      "metadata": {
        "id": "DnbJ6i6Mbx3A"
      }
    },
    {
      "cell_type": "code",
      "source": [
        "from micrograd.nn import MLP\n",
        "\n",
        "mlp = MLP(4, [4, 2, 1])"
      ],
      "metadata": {
        "id": "s5sVB6N0yoMB"
      },
      "execution_count": null,
      "outputs": []
    },
    {
      "cell_type": "code",
      "source": [
        "mlp.layers"
      ],
      "metadata": {
        "colab": {
          "base_uri": "https://localhost:8080/"
        },
        "id": "a3vZWjX0Wv8h",
        "outputId": "e38a9e34-d41f-4843-e818-474efb65c90f"
      },
      "execution_count": null,
      "outputs": [
        {
          "output_type": "execute_result",
          "data": {
            "text/plain": [
              "[Layer of [ReLUNeuron(4), ReLUNeuron(4), ReLUNeuron(4), ReLUNeuron(4)],\n",
              " Layer of [ReLUNeuron(4), ReLUNeuron(4), ReLUNeuron(4)],\n",
              " Layer of [LinearNeuron(3)]]"
            ]
          },
          "metadata": {},
          "execution_count": 81
        }
      ]
    },
    {
      "cell_type": "code",
      "source": [
        "o = mlp(x)"
      ],
      "metadata": {
        "id": "6iTFVfYG2cRa"
      },
      "execution_count": null,
      "outputs": []
    },
    {
      "cell_type": "code",
      "source": [
        "draw_dot(o)"
      ],
      "metadata": {
        "id": "Opb395dc4vGy"
      },
      "execution_count": null,
      "outputs": []
    },
    {
      "cell_type": "markdown",
      "source": [
        "How big is chatgpt?"
      ],
      "metadata": {
        "id": "cl1DjgXo5H15"
      }
    },
    {
      "cell_type": "code",
      "source": [
        "len(mlp.parameters())"
      ],
      "metadata": {
        "colab": {
          "base_uri": "https://localhost:8080/"
        },
        "id": "KXfiJeA45LxK",
        "outputId": "ff1783d6-100f-4271-af4c-7d3c8d5f07ba"
      },
      "execution_count": null,
      "outputs": [
        {
          "output_type": "execute_result",
          "data": {
            "text/plain": [
              "67"
            ]
          },
          "metadata": {},
          "execution_count": 28
        }
      ]
    },
    {
      "cell_type": "markdown",
      "source": [
        "## Run It!"
      ],
      "metadata": {
        "id": "QLhGmaM2bruV"
      }
    },
    {
      "cell_type": "code",
      "source": [
        "iterations = 10\n",
        "\n",
        "# inputs\n",
        "inputs = [\n",
        "    [0.2, -0.1, 0.2, 0.1],\n",
        "    [0.2, 0.1, 0.4, 0.4],\n",
        "    [0.1, -0.1, 0.3, 0.1],\n",
        "    [0.1, 0.4, 0.4, 0.1]\n",
        "]\n",
        "y_true = [1, -1, 1, -1] # class Labels\n",
        "\n",
        "mlp = MLP(4, [4, 1]) # The model"
      ],
      "metadata": {
        "id": "GzKwmdv_QPxd"
      },
      "execution_count": 162,
      "outputs": []
    },
    {
      "cell_type": "code",
      "source": [],
      "metadata": {
        "id": "p8YjJJheIWMA"
      },
      "execution_count": null,
      "outputs": []
    },
    {
      "cell_type": "code",
      "source": [
        "# Training\n",
        "\n",
        "# (iters) number of iterations\n",
        "# (n_net) the neural network\n",
        "# (l_func) the loss func\n",
        "# (inputs) the input data to be trained upon\n",
        "# (vals) the vals to be predicted\n",
        "\n",
        "\n",
        "def train(iters, n_net, l_func, learning_rate, inputs, vals):\n",
        "  for i in range(iters):\n",
        "\n",
        "    #forward\n",
        "    preds = [n_net(input) for input in inputs]\n",
        "    loss = l_func(preds, vals)\n",
        "\n",
        "    #backward\n",
        "    n_net.zero_grad()\n",
        "    loss.backward()\n",
        "\n",
        "    for p in n_net.parameters():\n",
        "      # CHALLENGE: IMPLEMENT DECAYING LEARNING RATE???\n",
        "      p.data -= learning_rate * p.grad # update the paremeters (weights and biases)\n",
        "\n",
        "  return n_net, loss"
      ],
      "metadata": {
        "id": "EteaEUJgRWPI"
      },
      "execution_count": 163,
      "outputs": []
    },
    {
      "cell_type": "code",
      "source": [
        "mlp, loss = train(10, mlp, max_margin_loss, .1, inputs, y_true)\n",
        "print(loss)"
      ],
      "metadata": {
        "id": "CGQbC7VOM2fe",
        "colab": {
          "base_uri": "https://localhost:8080/"
        },
        "outputId": "4d4c3002-5cec-4b71-c037-63e7ddc4ba9b"
      },
      "execution_count": 164,
      "outputs": [
        {
          "output_type": "stream",
          "name": "stdout",
          "text": [
            "Value(data=0.7276439816428649, grad=1)\n"
          ]
        }
      ]
    },
    {
      "cell_type": "code",
      "source": [
        "mlp.layers[1].neurons[0].parameters()"
      ],
      "metadata": {
        "colab": {
          "base_uri": "https://localhost:8080/"
        },
        "id": "KIYinyNeIyjO",
        "outputId": "b77c0572-ee67-4a0e-9e5b-21c24539ad1a"
      },
      "execution_count": 165,
      "outputs": [
        {
          "output_type": "execute_result",
          "data": {
            "text/plain": [
              "[Value(data=-0.5569058462075395, grad=0.0),\n",
              " Value(data=-0.27580702551905606, grad=-0.15930360004045482),\n",
              " Value(data=-1.065190431631969, grad=0.2534871290805238),\n",
              " Value(data=-0.29494203214591536, grad=0.2010042933644562),\n",
              " Value(data=0.0, grad=0.0)]"
            ]
          },
          "metadata": {},
          "execution_count": 165
        }
      ]
    },
    {
      "cell_type": "markdown",
      "source": [
        "## Pytorch\n",
        "\n",
        "An industry (and research) grade Machine Learning framework (library, package, whatever)."
      ],
      "metadata": {
        "id": "_EiFwXIZMsGF"
      }
    },
    {
      "cell_type": "code",
      "source": [
        "import torch\n",
        "from torch import nn\n",
        "import math"
      ],
      "metadata": {
        "id": "Pllh877jL3fU"
      },
      "execution_count": 166,
      "outputs": []
    },
    {
      "cell_type": "code",
      "source": [
        "x1 = torch.Tensor([2.0]); x1.requires_grad = True;\n",
        "\n",
        "x1.__dir__() # Lets see what we can do with these Tensor fellows..."
      ],
      "metadata": {
        "id": "UbBNjpx6LW7W"
      },
      "execution_count": null,
      "outputs": []
    },
    {
      "cell_type": "markdown",
      "source": [
        "### SETUP"
      ],
      "metadata": {
        "id": "gtwvSNLsNKov"
      }
    },
    {
      "cell_type": "code",
      "source": [
        "from pathlib import Path\n",
        "import requests\n",
        "\n",
        "DATA_PATH = Path(\"data\")\n",
        "PATH = DATA_PATH / \"mnist\"\n",
        "\n",
        "PATH.mkdir(parents=True, exist_ok=True)\n",
        "\n",
        "URL = \"https://github.com/pytorch/tutorials/raw/main/_static/\"\n",
        "FILENAME = \"mnist.pkl.gz\"\n",
        "\n",
        "if not (PATH / FILENAME).exists():\n",
        "        content = requests.get(URL + FILENAME).content\n",
        "        (PATH / FILENAME).open(\"wb\").write(content)"
      ],
      "metadata": {
        "id": "0RKcX0dgL5g_"
      },
      "execution_count": 167,
      "outputs": []
    },
    {
      "cell_type": "code",
      "source": [
        "import pickle\n",
        "import gzip\n",
        "\n",
        "with gzip.open((PATH / FILENAME).as_posix(), \"rb\") as f:\n",
        "        ((x_train, y_train), (x_valid, y_valid), _) = pickle.load(f, encoding=\"latin-1\")"
      ],
      "metadata": {
        "id": "jHSr8CNzNg1T"
      },
      "execution_count": 172,
      "outputs": []
    },
    {
      "cell_type": "markdown",
      "source": [
        "### Data"
      ],
      "metadata": {
        "id": "k2_owat3NkBY"
      }
    },
    {
      "cell_type": "code",
      "source": [
        "plt.imshow(x_train[0].reshape((28, 28)), cmap=\"gray\")\n",
        "# ``pyplot.show()`` only if not on Colab\n",
        "try:\n",
        "    import google.colab\n",
        "except ImportError:\n",
        "    plt.show()\n",
        "print(x_train.shape)"
      ],
      "metadata": {
        "colab": {
          "base_uri": "https://localhost:8080/",
          "height": 448
        },
        "id": "68TQAMWoNlcs",
        "outputId": "1107f18d-0cff-4812-a85a-e37eb746fd6d"
      },
      "execution_count": 174,
      "outputs": [
        {
          "output_type": "stream",
          "name": "stdout",
          "text": [
            "(50000, 784)\n"
          ]
        },
        {
          "output_type": "display_data",
          "data": {
            "text/plain": [
              "<Figure size 640x480 with 1 Axes>"
            ],
            "image/png": "[encoded data removed]"
          },
          "metadata": {}
        }
      ]
    },
    {
      "cell_type": "markdown",
      "source": [
        "### Neural Net"
      ],
      "metadata": {
        "id": "yB8bLS0bNMaA"
      }
    },
    {
      "cell_type": "code",
      "source": [
        "x_train, y_train, x_valid, y_valid = map(\n",
        "    torch.tensor, (x_train, y_train, x_valid, y_valid)\n",
        ")\n",
        "n, c = x_train.shape\n",
        "print(x_train, y_train)\n",
        "print(x_train.shape)\n",
        "print(y_train.min(), y_train.max())"
      ],
      "metadata": {
        "colab": {
          "base_uri": "https://localhost:8080/"
        },
        "id": "M7sRqWeFNsZr",
        "outputId": "3dabd43b-bdc7-4d3d-a590-a2e0a614cb5d"
      },
      "execution_count": 175,
      "outputs": [
        {
          "output_type": "stream",
          "name": "stdout",
          "text": [
            "tensor([[0., 0., 0.,  ..., 0., 0., 0.],\n",
            "        [0., 0., 0.,  ..., 0., 0., 0.],\n",
            "        [0., 0., 0.,  ..., 0., 0., 0.],\n",
            "        ...,\n",
            "        [0., 0., 0.,  ..., 0., 0., 0.],\n",
            "        [0., 0., 0.,  ..., 0., 0., 0.],\n",
            "        [0., 0., 0.,  ..., 0., 0., 0.]]) tensor([5, 0, 4,  ..., 8, 4, 8])\n",
            "torch.Size([50000, 784])\n",
            "tensor(0) tensor(9)\n"
          ]
        }
      ]
    },
    {
      "cell_type": "code",
      "source": [
        "weights = torch.randn(784, 10) / math.sqrt(784)\n",
        "weights.requires_grad_()\n",
        "bias = torch.zeros(10, requires_grad=True)"
      ],
      "metadata": {
        "id": "FPZuTLACNujw"
      },
      "execution_count": 176,
      "outputs": []
    },
    {
      "cell_type": "code",
      "source": [
        "def log_softmax(x):\n",
        "    return x - x.exp().sum(-1).log().unsqueeze(-1)\n",
        "\n",
        "def model(xb):\n",
        "    return log_softmax(xb @ weights + bias)"
      ],
      "metadata": {
        "id": "RbQzLUljNykm"
      },
      "execution_count": 177,
      "outputs": []
    },
    {
      "cell_type": "code",
      "source": [
        "bs = 64  # batch size\n",
        "\n",
        "xb = x_train[0:bs]  # a mini-batch from x\n",
        "preds = model(xb)  # predictions\n",
        "preds[0], preds.shape\n",
        "print(preds[0], preds.shape)"
      ],
      "metadata": {
        "colab": {
          "base_uri": "https://localhost:8080/"
        },
        "id": "nsksQVxZOZxp",
        "outputId": "708438a2-75a9-4785-b8b9-6ee59f851c95"
      },
      "execution_count": 178,
      "outputs": [
        {
          "output_type": "stream",
          "name": "stdout",
          "text": [
            "tensor([-2.4258, -1.8444, -1.9972, -1.9441, -2.7068, -2.9058, -2.9597, -2.8428,\n",
            "        -2.0650, -2.1519], grad_fn=<SelectBackward0>) torch.Size([64, 10])\n"
          ]
        }
      ]
    },
    {
      "cell_type": "code",
      "source": [
        "def nll(input, target):\n",
        "    return -input[range(target.shape[0]), target].mean()\n",
        "\n",
        "loss_func = nll"
      ],
      "metadata": {
        "id": "t-kCncA5PC1s"
      },
      "execution_count": 179,
      "outputs": []
    },
    {
      "cell_type": "code",
      "source": [
        "yb = y_train[0:bs]\n",
        "print(loss_func(preds, yb))"
      ],
      "metadata": {
        "colab": {
          "base_uri": "https://localhost:8080/"
        },
        "id": "jvvpQcLTQbRP",
        "outputId": "88e0b305-b439-4b76-b825-2c06ceb16e90"
      },
      "execution_count": 180,
      "outputs": [
        {
          "output_type": "stream",
          "name": "stdout",
          "text": [
            "tensor(2.3707, grad_fn=<NegBackward0>)\n"
          ]
        }
      ]
    },
    {
      "cell_type": "code",
      "source": [
        "def accuracy(out, yb):\n",
        "    preds = torch.argmax(out, dim=1)\n",
        "    return (preds == yb).float().mean()"
      ],
      "metadata": {
        "id": "PtWiDOL3QZt4"
      },
      "execution_count": 181,
      "outputs": []
    },
    {
      "cell_type": "code",
      "source": [
        "print(accuracy(preds, yb))"
      ],
      "metadata": {
        "id": "SYJJ9CtjQe-e"
      },
      "execution_count": null,
      "outputs": []
    },
    {
      "cell_type": "code",
      "source": [
        "from IPython.core.debugger import set_trace\n",
        "\n",
        "lr = 0.5  # learning rate\n",
        "epochs = 2  # how many epochs to train for\n",
        "\n",
        "for epoch in range(epochs):\n",
        "    for i in range((n - 1) // bs + 1):\n",
        "        #         set_trace()\n",
        "        start_i = i * bs\n",
        "        end_i = start_i + bs\n",
        "        xb = x_train[start_i:end_i]\n",
        "        yb = y_train[start_i:end_i]\n",
        "        pred = model(xb)\n",
        "        loss = loss_func(pred, yb)\n",
        "\n",
        "        loss.backward()\n",
        "        with torch.no_grad():\n",
        "            weights -= weights.grad * lr\n",
        "            bias -= bias.grad * lr\n",
        "            weights.grad.zero_()\n",
        "            bias.grad.zero_()"
      ],
      "metadata": {
        "id": "sIEhM-V8Qmg3"
      },
      "execution_count": 186,
      "outputs": []
    },
    {
      "cell_type": "code",
      "source": [
        "print(loss_func(model(xb), yb), accuracy(model(xb), yb))"
      ],
      "metadata": {
        "colab": {
          "base_uri": "https://localhost:8080/"
        },
        "id": "u0OZNQekQs5i",
        "outputId": "7c99059e-9688-442f-9e23-3aa2ee48137e"
      },
      "execution_count": 187,
      "outputs": [
        {
          "output_type": "stream",
          "name": "stdout",
          "text": [
            "tensor(0.0676, grad_fn=<NegBackward0>) tensor(1.)\n"
          ]
        }
      ]
    },
    {
      "cell_type": "code",
      "source": [
        "pred = model(x_train[0])"
      ],
      "metadata": {
        "id": "RfaUo8w7RS_p"
      },
      "execution_count": 188,
      "outputs": []
    },
    {
      "cell_type": "code",
      "source": [
        "max([(x, i) for i,x in enumerate(pred.detach().numpy())])"
      ],
      "metadata": {
        "colab": {
          "base_uri": "https://localhost:8080/"
        },
        "id": "5DCrO2szRoux",
        "outputId": "ef2108b6-dc4d-4720-f45b-fdfaf183780f"
      },
      "execution_count": 203,
      "outputs": [
        {
          "output_type": "execute_result",
          "data": {
            "text/plain": [
              "(-0.14883518, 5)"
            ]
          },
          "metadata": {},
          "execution_count": 203
        }
      ]
    },
    {
      "cell_type": "code",
      "source": [
        "y_train[0]"
      ],
      "metadata": {
        "colab": {
          "base_uri": "https://localhost:8080/"
        },
        "id": "aLlv02dfSvWs",
        "outputId": "c9010469-a32b-40d9-9f8b-3842ee6863b6"
      },
      "execution_count": 204,
      "outputs": [
        {
          "output_type": "execute_result",
          "data": {
            "text/plain": [
              "tensor(5)"
            ]
          },
          "metadata": {},
          "execution_count": 204
        }
      ]
    },
    {
      "cell_type": "markdown",
      "source": [
        "NEXT STEPS:\n",
        "<br>\n",
        "https://pytorch.org/tutorials/beginner/pytorch_with_examples.html"
      ],
      "metadata": {
        "id": "X3mQbxqbMS6g"
      }
    },
    {
      "cell_type": "markdown",
      "source": [
        "[Karpathy's Site](https://karpathy.ai/)"
      ],
      "metadata": {
        "id": "sZAydfuhGoQE"
      }
    }
  ]
}