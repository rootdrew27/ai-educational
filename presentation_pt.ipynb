{
 "cells": [
  {
   "cell_type": "markdown",
   "metadata": {},
   "source": [
    "# Deep Learning with PyTorch Presentation"
   ]
  },
  {
   "cell_type": "markdown",
   "metadata": {},
   "source": [
    "## Introduction "
   ]
  },
  {
   "cell_type": "markdown",
   "metadata": {},
   "source": [
    "**Deep Learning** is a subfield of **Machine Learning**, which is a subfield of **Artificial Intelligence**, that involves training artificial neural networks to learn patterns in data.\n",
    "\n",
    "- Many would say that the modern hype around Deep Learning began in 2012 with the ImageNet competition. But its roots go back to the 1950s.\n",
    "- It has seen numerous applications:\n",
    "    - Speech Recognition\n",
    "    - Image Classification\n",
    "    - Regression\n",
    "    - Autonomous Driving\n",
    "    - Image Segmentation\n",
    "    - Text Generation\n",
    "    - and more!\n",
    "- **ChatGPT** and other LLMs are built via Deep Learning.\n",
    "- PyTorch is a popular deep learning library that provides a flexible and efficient platform for building and training neural networks (you'll learn more about NN's later).\n",
    "- Surpisingly, much of the mathematics behind Deep Learning are not that complicated.\n",
    "- We will focus on **supervised learning**.\n",
    "- Lets get started!\n",
    "\n",
    "<img src=\"imgs/cool_brain_2.png\" style=\"margin: auto; display: block;\" alt=\"Cool Brain\" width=\"500\">\n"
   ]
  },
  {
   "cell_type": "markdown",
   "metadata": {},
   "source": [
    "## Installs and Imports"
   ]
  },
  {
   "cell_type": "code",
   "execution_count": null,
   "metadata": {},
   "outputs": [],
   "source": [
    "%pip install torch matplotlib"
   ]
  },
  {
   "cell_type": "code",
   "execution_count": 38,
   "metadata": {},
   "outputs": [],
   "source": [
    "import torch\n",
    "import matplotlib.pyplot as plt\n",
    "import numpy as np"
   ]
  },
  {
   "cell_type": "markdown",
   "metadata": {},
   "source": [
    "## Background\n"
   ]
  },
  {
   "cell_type": "markdown",
   "metadata": {},
   "source": [
    "### Pytorch Basics\n"
   ]
  },
  {
   "cell_type": "code",
   "execution_count": 39,
   "metadata": {},
   "outputs": [
    {
     "name": "stdout",
     "output_type": "stream",
     "text": [
      "tensor([1, 2, 3])\n",
      "\n",
      "x0.ndim = 1\n",
      "x0.shape = torch.Size([3])\n",
      "x0.dtype = torch.int64\n"
     ]
    }
   ],
   "source": [
    "x0 = torch.tensor([1, 2, 3])\n",
    "\n",
    "print(x0)\n",
    "print()\n",
    "print(f'x0.ndim = {x0.ndim}')\n",
    "print(f'x0.shape = {x0.shape}')\n",
    "print(f'x0.dtype = {x0.dtype}')"
   ]
  },
  {
   "cell_type": "code",
   "execution_count": 40,
   "metadata": {},
   "outputs": [
    {
     "name": "stdout",
     "output_type": "stream",
     "text": [
      "tensor([[1, 1, 0],\n",
      "        [0, 0, 1],\n",
      "        [1, 0, 1]])\n",
      "\n",
      "x1.ndim = 2\n",
      "x1.shape = torch.Size([3, 3])\n",
      "x1.dtype = torch.int64\n"
     ]
    }
   ],
   "source": [
    "x1 = torch.tensor([[1, 1, 0], [0, 0, 1], [1, 0, 1]])\n",
    "\n",
    "print(x1)\n",
    "print()\n",
    "print(f'x1.ndim = {x1.ndim}')\n",
    "print(f'x1.shape = {x1.shape}')\n",
    "print(f'x1.dtype = {x1.dtype}')\n"
   ]
  },
  {
   "cell_type": "code",
   "execution_count": 41,
   "metadata": {},
   "outputs": [
    {
     "name": "stdout",
     "output_type": "stream",
     "text": [
      "tensor([[[1, 1, 0],\n",
      "         [0, 0, 1],\n",
      "         [1, 0, 1]],\n",
      "\n",
      "        [[1, 0, 1],\n",
      "         [0, 1, 0],\n",
      "         [1, 0, 1]],\n",
      "\n",
      "        [[0, 0, 0],\n",
      "         [0, 0, 1],\n",
      "         [0, 1, 0]]])\n",
      "\n",
      "x2.ndim = 3\n",
      "x2.shape = torch.Size([3, 3, 3])\n",
      "x2.dtype = torch.int64\n"
     ]
    }
   ],
   "source": [
    "x2 = torch.tensor([[[1, 1, 0], [0, 0, 1], [1, 0, 1]], [[1, 0, 1], [0, 1, 0], [1, 0, 1]], [[0, 0, 0], [0, 0, 1], [0, 1, 0]]])\n",
    "\n",
    "print(x2)\n",
    "print()\n",
    "print(f'x2.ndim = {x2.ndim}')\n",
    "print(f'x2.shape = {x2.shape}')\n",
    "print(f'x2.dtype = {x2.dtype}')"
   ]
  },
  {
   "cell_type": "code",
   "execution_count": 42,
   "metadata": {},
   "outputs": [
    {
     "name": "stdout",
     "output_type": "stream",
     "text": [
      "tensor([[0., 0., 0.],\n",
      "        [0., 0., 0.]])\n",
      "\n",
      "tensor([[1., 1., 1.],\n",
      "        [1., 1., 1.]])\n",
      "\n",
      "tensor([[115, 115, 115],\n",
      "        [115, 115, 115]])\n",
      "\n",
      "tensor([[-0.6985,  0.3861,  1.0167],\n",
      "        [-1.0695, -0.4295,  0.1752]])\n"
     ]
    }
   ],
   "source": [
    "# special ways to make tensors\n",
    "\n",
    "x3 = torch.zeros(2, 3)\n",
    "x4 = torch.ones(2, 3)\n",
    "x5 = torch.full((2, 3), 115)\n",
    "x6 = torch.randn(2, 3)\n",
    "\n",
    "print(x3)\n",
    "print()\n",
    "print(x4)\n",
    "print()\n",
    "print(x5)\n",
    "print()\n",
    "print(x6)"
   ]
  },
  {
   "cell_type": "code",
   "execution_count": 43,
   "metadata": {},
   "outputs": [
    {
     "data": {
      "text/plain": [
       "42"
      ]
     },
     "execution_count": 43,
     "metadata": {},
     "output_type": "execute_result"
    }
   ],
   "source": [
    "# get the value of a tensor (with only one element)\n",
    "\n",
    "x = torch.tensor([42])\n",
    "x.item()"
   ]
  },
  {
   "cell_type": "markdown",
   "metadata": {},
   "source": [
    "### Conceptual Background\n"
   ]
  },
  {
   "cell_type": "markdown",
   "metadata": {},
   "source": [
    "<img src=\"imgs/nn_schematic.png\" alt=\"Neural Network Schematic\" width=\"500\">\n",
    "\n",
    "- Inputs are represented as vectors (i.e. lists (or multidimensional lists) of numbers).\n",
    "- They are passed through layers (which contain weights, biases, and activation functions).\n",
    "- The result is used to make a prediction.\n",
    "\n",
    "In essence, a network is a function that maps inputs to outputs, but importantly, this network can be trained!"
   ]
  },
  {
   "cell_type": "code",
   "execution_count": 44,
   "metadata": {},
   "outputs": [],
   "source": [
    "import torch.nn.functional as F"
   ]
  },
  {
   "cell_type": "code",
   "execution_count": 45,
   "metadata": {},
   "outputs": [
    {
     "name": "stdout",
     "output_type": "stream",
     "text": [
      "\n",
      "output = 0.3827368915081024\n"
     ]
    }
   ],
   "source": [
    "# Lets see a quick example\n",
    "\n",
    "x = torch.tensor([1, 2, 3], dtype=torch.float32)\n",
    "\n",
    "linear_layer1 = torch.nn.Linear(in_features=3, out_features=3, dtype=torch.float32)\n",
    "linear_layer2 = torch.nn.Linear(in_features=3, out_features=1, dtype=torch.float32)\n",
    "\n",
    "x = linear_layer1(x)\n",
    "x = linear_layer2(x)\n",
    "y = F.sigmoid(x)\n",
    "\n",
    "print()\n",
    "print(f'output = {y.item()}') # What do we notice about the output?"
   ]
  },
  {
   "cell_type": "markdown",
   "metadata": {},
   "source": [
    "### Mathematical Background\n"
   ]
  },
  {
   "cell_type": "markdown",
   "metadata": {},
   "source": [
    "#### Linear Algebra"
   ]
  },
  {
   "cell_type": "markdown",
   "metadata": {
    "vscode": {
     "languageId": "latex"
    }
   },
   "source": [
    "Let $x$ be the input vector and $Layer_1$ be the first layer of our network.\n",
    "\n",
    "$$\n",
    "x = \\begin{bmatrix}\n",
    "1 & 2 & 3\n",
    "\\end{bmatrix}\n",
    "$$\n",
    "\n",
    "$$\n",
    "A = \\begin{bmatrix}\n",
    "2 & 2 & 1 \\\\\n",
    "1 & 4 & 7 \\\\\n",
    "7 & 1 & 3\n",
    "\\end{bmatrix}\n",
    "$$\n",
    "\n",
    "Lets see what matrix multiplication does...\n",
    "\n",
    "$$\n",
    "xA = \n",
    "\\begin{bmatrix}\n",
    "1 & 2 & 3\n",
    "\\end{bmatrix}\n",
    "\\begin{bmatrix}\n",
    "2 & 2 & 1 \\\\\n",
    "1 & 4 & 7 \\\\\n",
    "7 & 1 & 3\n",
    "\\end{bmatrix}\n",
    "=\n",
    "\\begin{bmatrix}\n",
    "1*2 + 2*1 + 3*7 & 1*2 + 2*4 + 3*1 & 1*1 + 2*7 + 3*3\n",
    "\\end{bmatrix}\n",
    "=\n",
    "\\begin{bmatrix}\n",
    "25 & 13 & 24\n",
    "\\end{bmatrix}\n",
    "$$"
   ]
  },
  {
   "cell_type": "code",
   "execution_count": 46,
   "metadata": {},
   "outputs": [
    {
     "name": "stdout",
     "output_type": "stream",
     "text": [
      "xA = tensor([25., 13., 24.])\n"
     ]
    }
   ],
   "source": [
    "x = torch.tensor([1, 2, 3], dtype=torch.float32)\n",
    "\n",
    "A = torch.tensor(\n",
    "    [[2, 2, 1], \n",
    "     [1, 4, 7], \n",
    "     [7, 1, 3]], \n",
    "    dtype=torch.float32\n",
    ")\n",
    "\n",
    "print(f'xA = {x @ A}')"
   ]
  },
  {
   "cell_type": "markdown",
   "metadata": {},
   "source": [
    "So our neural is composed of two layers, which means we have two matrices.\n",
    "\n",
    "$$\n",
    "Layer_1 = \\begin{bmatrix}\n",
    "a_{11} & a_{12} & a_{13} \\\\\n",
    "a_{21} & a_{22} & a_{23} \\\\\n",
    "a_{31} & a_{32} & a_{33}\n",
    "\\end{bmatrix}\n",
    "$$\n",
    "\n",
    "$$\n",
    "Layer_2 = \\begin{bmatrix}\n",
    "b_{1} \\\\\n",
    "b_{2} \\\\\n",
    "b_{3} \n",
    "\\end{bmatrix}\n",
    "$$"
   ]
  },
  {
   "cell_type": "code",
   "execution_count": 47,
   "metadata": {},
   "outputs": [
    {
     "name": "stdout",
     "output_type": "stream",
     "text": [
      "x = tensor([1., 2., 3.])\n",
      "\n",
      "bias = tensor([[1, 1, 1]])\n",
      "\n",
      "x + bias = tensor([[2., 3., 4.]])\n"
     ]
    }
   ],
   "source": [
    "# What about the bias?\n",
    "\n",
    "x = torch.tensor([1, 2, 3], dtype=torch.float32)\n",
    "\n",
    "bias = torch.full((1,3), 1)\n",
    "\n",
    "print(f'x = {x}\\n')\n",
    "print(f'bias = {bias}\\n')\n",
    "print(f'x + bias = {x + bias}')"
   ]
  },
  {
   "cell_type": "markdown",
   "metadata": {},
   "source": [
    "<img src=\"imgs/neuron.png\" alt=\"Neuron\" style=\"margin: auto; display: block;\" width=\"500\">"
   ]
  },
  {
   "cell_type": "markdown",
   "metadata": {},
   "source": [
    "### Activations Functions\n",
    "\n",
    "- Activation functions are used to introduce nonlinearity into the network.\n",
    "- Multiplication and Addition are linear operations. As such, it can be difficult to learn complex patterns.\n",
    "\n",
    "<br/>\n",
    "\n",
    "<img src=\"imgs/actfuncs.jpg\" alt=\"Activation Functions\" style=\"margin: auto; display: block;\" width=\"500\">"
   ]
  },
  {
   "cell_type": "code",
   "execution_count": 48,
   "metadata": {},
   "outputs": [
    {
     "name": "stdout",
     "output_type": "stream",
     "text": [
      "act(x0) = tensor([0.7311])\n",
      "act(x1) = tensor([0.2689])\n"
     ]
    }
   ],
   "source": [
    "x0 = torch.tensor([1])\n",
    "x1 = torch.tensor([-1])\n",
    "\n",
    "act = F.sigmoid\n",
    "\n",
    "print(f'act(x0) = {act(x0)}')\n",
    "print(f'act(x1) = {act(x1)}')"
   ]
  },
  {
   "cell_type": "code",
   "execution_count": 49,
   "metadata": {},
   "outputs": [
    {
     "name": "stdout",
     "output_type": "stream",
     "text": [
      "classify(x0) = Dog\n",
      "classify(x1) = Cat\n"
     ]
    }
   ],
   "source": [
    "# sigmoid finds use in binary classification problems.\n",
    "def classify(x):\n",
    "    return 'Dog' if act(x) > 0.5 else 'Cat'\n",
    "\n",
    "print(f'classify(x0) = {classify(x0)}')\n",
    "print(f'classify(x1) = {classify(x1)}')\n",
    "\n",
    "# Notice how sigmoid relates numbers to probabilities!"
   ]
  },
  {
   "cell_type": "markdown",
   "metadata": {},
   "source": [
    "### Calculus\n",
    "\n",
    "A function is a rule that maps inputs to outputs.\n",
    "$$\n",
    "f(x) = x^2\n",
    "$$\n"
   ]
  },
  {
   "cell_type": "markdown",
   "metadata": {},
   "source": [
    "**Definition**: rate of change of a function with respect to its input.\n",
    "\n",
    "It is defined as:\n",
    "$$\n",
    "\\frac{d}{dx} f(x) = \\lim_{h \\to 0} \\frac{f(x+h) - f(x)}{h}\n",
    "$$\n",
    "\n",
    "Fortunately, there are some rules for finding derivatives quickly."
   ]
  },
  {
   "cell_type": "code",
   "execution_count": 50,
   "metadata": {},
   "outputs": [
    {
     "name": "stdout",
     "output_type": "stream",
     "text": [
      "f(1) = 3\n",
      "f(2) = 6\n",
      "f(3) = 9\n"
     ]
    }
   ],
   "source": [
    "# Define a function\n",
    "def f(x):\n",
    "    return 3*x\n",
    "\n",
    "print(f'f(1) = {f(1)}')\n",
    "print(f'f(2) = {f(2)}')\n",
    "print(f'f(3) = {f(3)}')"
   ]
  },
  {
   "cell_type": "code",
   "execution_count": 51,
   "metadata": {},
   "outputs": [
    {
     "name": "stdout",
     "output_type": "stream",
     "text": [
      "df(1) = 3\n",
      "df(2) = 3\n",
      "df(3) = 3\n"
     ]
    }
   ],
   "source": [
    "# The derivative of a constant times a variable is the constant. As such,\n",
    "def df(x):\n",
    "    return 3\n",
    "\n",
    "print(f'df(1) = {df(1)}')\n",
    "print(f'df(2) = {df(2)}')\n",
    "print(f'df(3) = {df(3)}')"
   ]
  },
  {
   "cell_type": "code",
   "execution_count": 52,
   "metadata": {},
   "outputs": [
    {
     "data": {
      "image/png": "[encoded data removed]",
      "text/plain": [
       "<Figure size 800x500 with 1 Axes>"
      ]
     },
     "metadata": {},
     "output_type": "display_data"
    }
   ],
   "source": [
    "x = np.arange(-10, 10, 0.1) # returns an array of numbers between -10 and 10 with a step size of 0.1\n",
    "\n",
    "y = f(x)\n",
    "\n",
    "fig, ax = plt.subplots(figsize=(8, 5))\n",
    "ax.grid(True, which='both')\n",
    "ax.axhline(y=0, color='k')\n",
    "ax.axvline(x=0, color='k')\n",
    "ax.set_xlim(-10, 10)\n",
    "ax.set_ylim(-20, 20)\n",
    "ax.plot(x, y)\n",
    "plt.show()"
   ]
  },
  {
   "cell_type": "code",
   "execution_count": 53,
   "metadata": {},
   "outputs": [
    {
     "data": {
      "image/png": "[encoded data removed]",
      "text/plain": [
       "<Figure size 800x500 with 1 Axes>"
      ]
     },
     "metadata": {},
     "output_type": "display_data"
    }
   ],
   "source": [
    "x = np.arange(-10, 10, 0.1) # returns an array of numbers between -10 and 10 with a step size of 0.1\n",
    "\n",
    "y = f(x)\n",
    "y_prim = [df(x_i) for x_i in x]\n",
    "\n",
    "fig, ax = plt.subplots(figsize=(8, 5))\n",
    "ax.grid(True, which='both')\n",
    "ax.axhline(y=0, color='k')\n",
    "ax.axvline(x=0, color='k')\n",
    "ax.plot(x, y, label='f(x)')\n",
    "ax.plot(x, y_prim, label=\"df(x)\")\n",
    "ax.set_xlim(-10, 10)\n",
    "ax.set_ylim(-20, 20)\n",
    "plt.legend()\n",
    "plt.show()"
   ]
  },
  {
   "cell_type": "markdown",
   "metadata": {},
   "source": [
    "**But why do we even care about derivatives?**\n"
   ]
  },
  {
   "cell_type": "markdown",
   "metadata": {},
   "source": [
    "## Backpropagation\n",
    "\n",
    "- Backpropagation is the process of updating the parameters (weights and biases) of a network to minimize a loss function.\n",
    "\n",
    "<br/>\n",
    "\n",
    "**For Deep Learning this process is known as Gradient Descent**\n",
    "\n",
    "<img src=\"imgs/loss_fn.jpg\" alt=\"\" style=\"margin: auto; display: block;\" width=\"500\">\n"
   ]
  },
  {
   "cell_type": "markdown",
   "metadata": {},
   "source": [
    "### Loss Functions\n",
    "\n",
    "- The loss measures the difference between the actual output and the predicted output.\n"
   ]
  },
  {
   "cell_type": "code",
   "execution_count": 57,
   "metadata": {},
   "outputs": [
    {
     "name": "stdout",
     "output_type": "stream",
     "text": [
      "L1 Loss = 0.5\n",
      "MSE = 0.25\n"
     ]
    }
   ],
   "source": [
    "# regression\n",
    "\n",
    "y = torch.tensor([10.5], dtype=torch.float32)\n",
    "target = torch.tensor([11], dtype=torch.float32)\n",
    "\n",
    "print(f'L1 Loss = {F.l1_loss(y, target).item()}') # i.e. mae (mean absolute error)\n",
    "print(f'MSE = {F.mse_loss(y, target).item()}') # i.e. L2-squared"
   ]
  },
  {
   "cell_type": "markdown",
   "metadata": {},
   "source": [
    "$\\text{L1 Loss} = \\dfrac{1}{n} \\sum\\limits_{i=1}^{n} |y_i - \\hat y_i|$ \n",
    "<br/>\n",
    "<br/>\n",
    "$\\text{MSE}=\\dfrac{1}{n} \\sum\\limits_{i=1}^{n} (y_i - \\hat y_i)^2$"
   ]
  },
  {
   "cell_type": "code",
   "execution_count": 61,
   "metadata": {},
   "outputs": [
    {
     "data": {
      "text/plain": [
       "tensor(0.1054)"
      ]
     },
     "execution_count": 61,
     "metadata": {},
     "output_type": "execute_result"
    }
   ],
   "source": [
    "# (binary) classification \n",
    "\n",
    "y = torch.tensor([.9], dtype=torch.float32)\n",
    "target = torch.tensor([1], dtype=torch.float32)\n",
    "\n",
    "F.binary_cross_entropy(y, target) # requres targets be the range 0-1, sound familiar?"
   ]
  },
  {
   "cell_type": "markdown",
   "metadata": {},
   "source": [
    "$\\text{BCE}=(\\hat y_i)log(p_i) + (1 - \\hat y_i)log(1 - p_i)$"
   ]
  },
  {
   "cell_type": "markdown",
   "metadata": {},
   "source": [
    "### Back to Backpropagation\n",
    "\n",
    "- Information is propagated backward through the network.\n",
    "- At each step you calculate the derivate of the loss function with respect the particular parameter (this is the Chain Rule from Calculus).\n",
    "\n",
    "<img src=\"imgs/backprop.png\" style=\"display: block; margin:auto\" width=\"500\">\n",
    "\n",
    "- (Note to Self: Revisit Gradient Descent Image)"
   ]
  },
  {
   "cell_type": "code",
   "execution_count": 62,
   "metadata": {},
   "outputs": [],
   "source": [
    "inputs = torch.tensor(\n",
    "    [[[1, 0, 4],\n",
    "    [3, -2, 1],\n",
    "    [4, -2, 1]],\n",
    "\n",
    "    [[4, 2, 1],\n",
    "     [0, 10, -2],\n",
    "     [8, 4, 2]],\n",
    "\n",
    "    [[-1, 2, 3],\n",
    "     [-7, 4, 3],\n",
    "     [1, 3, 5]]],\n",
    "     dtype=torch.float32\n",
    ")\n",
    "\n",
    "targets = torch.tensor([[10], [29], [13]], dtype=torch.float32)"
   ]
  },
  {
   "cell_type": "code",
   "execution_count": 63,
   "metadata": {},
   "outputs": [
    {
     "name": "stdout",
     "output_type": "stream",
     "text": [
      "Inputs Shape: torch.Size([3, 3, 3])\n",
      "Target Shape: torch.Size([3, 1])\n"
     ]
    }
   ],
   "source": [
    "print(f'Inputs Shape: {inputs.shape}')\n",
    "print(f'Target Shape: {targets.shape}')"
   ]
  },
  {
   "cell_type": "code",
   "execution_count": 64,
   "metadata": {},
   "outputs": [
    {
     "data": {
      "text/plain": [
       "tensor([[ 1.,  0.,  4.,  3., -2.,  1.,  4., -2.,  1.],\n",
       "        [ 4.,  2.,  1.,  0., 10., -2.,  8.,  4.,  2.],\n",
       "        [-1.,  2.,  3., -7.,  4.,  3.,  1.,  3.,  5.]])"
      ]
     },
     "execution_count": 64,
     "metadata": {},
     "output_type": "execute_result"
    }
   ],
   "source": [
    "torch.nn.Flatten()(inputs)"
   ]
  },
  {
   "cell_type": "code",
   "execution_count": 65,
   "metadata": {},
   "outputs": [],
   "source": [
    "# create a network\n",
    "\n",
    "flat = torch.nn.Flatten()\n",
    "layer1 = torch.nn.Linear(in_features=9, out_features=9)\n",
    "layer2 = torch.nn.Linear(in_features=9, out_features=3)\n",
    "layer3 = torch.nn.Linear(in_features=3, out_features=1)"
   ]
  },
  {
   "cell_type": "code",
   "execution_count": 66,
   "metadata": {},
   "outputs": [],
   "source": [
    "# forward pass\n",
    "\n",
    "x = flat(inputs)\n",
    "x = layer1(x)\n",
    "x = F.relu(x)\n",
    "x = layer2(x)\n",
    "x = F.relu(x)\n",
    "y = layer3(x)\n",
    "\n",
    "# calculate loss\n",
    "loss = F.mse_loss(y, targets) # this is a regression task\n",
    "\n",
    "# backpropagate\n",
    "loss.backward()\n"
   ]
  },
  {
   "cell_type": "code",
   "execution_count": 67,
   "metadata": {},
   "outputs": [
    {
     "name": "stdout",
     "output_type": "stream",
     "text": [
      "Gradient for weight in layer1:\n",
      " tensor([[-43.4901,  -7.7152,   0.0000]])\n",
      "\n",
      "Gradient for bias in layer1:\n",
      " tensor([-35.2039])\n",
      "\n"
     ]
    }
   ],
   "source": [
    "# lets watch the weights\n",
    "for name, param in layer3.named_parameters():\n",
    "    if param.requires_grad:\n",
    "        print(f'Gradient for {name} in layer1:\\n {param.grad}')\n",
    "        print()"
   ]
  },
  {
   "cell_type": "markdown",
   "metadata": {},
   "source": [
    "### Optimizers"
   ]
  },
  {
   "cell_type": "code",
   "execution_count": 68,
   "metadata": {},
   "outputs": [],
   "source": [
    "import torch.nn as nn"
   ]
  },
  {
   "cell_type": "code",
   "execution_count": 81,
   "metadata": {},
   "outputs": [],
   "source": [
    "class net(nn.Module):\n",
    "    def __init__(self, dims=(9, 9, 9, 1)):\n",
    "        super().__init__()\n",
    "        self.layer1 = nn.Linear(dims[0], dims[1])\n",
    "        self.layer2 = nn.Linear(dims[1], dims[2])\n",
    "        self.layer3 = nn.Linear(dims[2], dims[3])\n",
    "        self.flat = nn.Flatten()\n",
    "\n",
    "    def forward(self, x):\n",
    "        x = self.flat(x)\n",
    "        x = F.relu(self.layer1(x))\n",
    "        x = F.relu(self.layer2(x))\n",
    "        y = self.layer3(x)\n",
    "        return y"
   ]
  },
  {
   "cell_type": "code",
   "execution_count": 82,
   "metadata": {},
   "outputs": [],
   "source": [
    "net1 = net()\n",
    "\n",
    "opt = torch.optim.Adam(net1.parameters(), lr=0.1) # the Adam optimizer"
   ]
  },
  {
   "cell_type": "code",
   "execution_count": 83,
   "metadata": {},
   "outputs": [
    {
     "name": "stdout",
     "output_type": "stream",
     "text": [
      "loss at iteration 0 = 397.6874084472656\n",
      "loss at iteration 10 = 18.23792266845703\n",
      "loss at iteration 20 = 11.089072227478027\n",
      "loss at iteration 30 = 6.461925029754639\n",
      "loss at iteration 40 = 0.7534823417663574\n",
      "loss at iteration 50 = 0.7346885800361633\n",
      "loss at iteration 60 = 0.2687118947505951\n",
      "loss at iteration 70 = 0.02026679739356041\n",
      "loss at iteration 80 = 0.01933770440518856\n",
      "loss at iteration 90 = 0.017806924879550934\n"
     ]
    }
   ],
   "source": [
    "for i in range(100):\n",
    "    # forward pass\n",
    "    preds = net1(inputs)\n",
    "\n",
    "    # calculate loss\n",
    "    loss = F.mse_loss(preds, targets)\n",
    "\n",
    "    # backpropagate\n",
    "    loss.backward()\n",
    "    opt.step() # update weights\n",
    "    opt.zero_grad()\n",
    "\n",
    "    if i % 10 == 0: print(f'loss at iteration {i} = {loss}')"
   ]
  },
  {
   "cell_type": "code",
   "execution_count": 84,
   "metadata": {},
   "outputs": [
    {
     "name": "stdout",
     "output_type": "stream",
     "text": [
      "Predictions\n",
      "tensor([[ 9.9672],\n",
      "        [28.8895],\n",
      "        [12.9294]], grad_fn=<AddmmBackward0>)\n",
      "\n",
      "Targets\n",
      "tensor([[10.],\n",
      "        [29.],\n",
      "        [13.]])\n"
     ]
    }
   ],
   "source": [
    "preds = net1(inputs)\n",
    "\n",
    "print(f'Predictions\\n{preds}')\n",
    "print()\n",
    "print(f'Targets\\n{targets}')"
   ]
  }
 ],
 "metadata": {
  "kernelspec": {
   "display_name": "DeepLearning",
   "language": "python",
   "name": "python3"
  },
  "language_info": {
   "codemirror_mode": {
    "name": "ipython",
    "version": 3
   },
   "file_extension": ".py",
   "mimetype": "text/x-python",
   "name": "python",
   "nbconvert_exporter": "python",
   "pygments_lexer": "ipython3",
   "version": "3.10.6"
  }
 },
 "nbformat": 4,
 "nbformat_minor": 2
}
